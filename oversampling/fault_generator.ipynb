{
 "cells": [
  {
   "cell_type": "markdown",
   "metadata": {},
   "source": [
    "# Organizing the Data"
   ]
  },
  {
   "cell_type": "code",
   "execution_count": 1,
   "metadata": {},
   "outputs": [],
   "source": [
    "import pandas as pd\n",
    "import os\n",
    "import numpy as np\n",
    "import seaborn as sn\n",
    "import matplotlib.pyplot as plt\n",
    "from sklearn.model_selection import train_test_split\n",
    "from sklearn.metrics import ConfusionMatrixDisplay, accuracy_score, confusion_matrix, f1_score, recall_score, precision_score"
   ]
  },
  {
   "cell_type": "code",
   "execution_count": null,
   "metadata": {},
   "outputs": [],
   "source": [
    "%cd \"/home/usr/Documents/reg-class-fault-detection/dataset/train_test_dataset_Fault Impact Analysis\""
   ]
  },
  {
   "cell_type": "code",
   "execution_count": 3,
   "metadata": {},
   "outputs": [],
   "source": [
    "def getFrames(d):\n",
    "\n",
    "    frames = []\n",
    "\n",
    "    for name in d:\n",
    "        if name.endswith('.csv'):\n",
    "            df = pd.read_csv(name)\n",
    "            frames.append(df)\n",
    "\n",
    "    return frames\n",
    "\n",
    "def label_func(faultD):\n",
    "  if(faultD == 0):\n",
    "    return 0\n",
    "  elif(faultD < 500):\n",
    "    return 1\n",
    "  else:\n",
    "    return 2\n",
    "\n",
    "def bin_func(faultD):\n",
    "  if(faultD == 0):\n",
    "    return 0\n",
    "  else:\n",
    "    return (faultD//500 + 1)\n",
    "\n",
    "def faultlabel(b):\n",
    "  if(b == 0): return 0\n",
    "  elif(b == 1): return 1\n",
    "  else: return 2"
   ]
  },
  {
   "cell_type": "code",
   "execution_count": 5,
   "metadata": {},
   "outputs": [
    {
     "name": "stdout",
     "output_type": "stream",
     "text": [
      "7256\n",
      "length of complete df: 908922\n"
     ]
    }
   ],
   "source": [
    "csv_list = os.listdir()\n",
    "all_frames = getFrames(csv_list)\n",
    "print(len(all_frames))\n",
    "df_complete = pd.concat(all_frames, ignore_index= True)\n",
    "print(\"length of complete df: \" + str(len(df_complete)))\n"
   ]
  },
  {
   "cell_type": "code",
   "execution_count": 6,
   "metadata": {},
   "outputs": [],
   "source": [
    "df_main = df_complete.copy()\n",
    "\n",
    "fault_df = df_complete[df_complete['fault_duration'] > 0]\n",
    "fault_df = fault_df[fault_df['relation'] > 0.98]\n",
    "\n",
    "no_fault_df = df_main[df_main['relation'] == 0]"
   ]
  },
  {
   "cell_type": "code",
   "execution_count": 12,
   "metadata": {},
   "outputs": [],
   "source": [
    "df_main = pd.concat([fault_df, no_fault_df])\n",
    "df_main = df_main.sample(frac=1)\n",
    "df_main = df_main.drop(columns=['NE ID','endTime', 'relation'])\n",
    "df_main = df_main.dropna()\n",
    "df_main['fault_label'] = df_main['fault_duration'].apply(label_func)\n",
    "df_main['bin'] = df_main['fault_duration'].apply(bin_func)"
   ]
  },
  {
   "cell_type": "code",
   "execution_count": 13,
   "metadata": {},
   "outputs": [],
   "source": [
    "X_df = df_main.copy()\n",
    "X_df = X_df.drop(columns=['fault_duration', 'fault_label','bin'])"
   ]
  },
  {
   "cell_type": "markdown",
   "metadata": {},
   "source": [
    "## Scaling"
   ]
  },
  {
   "cell_type": "code",
   "execution_count": 14,
   "metadata": {},
   "outputs": [
    {
     "data": {
      "text/html": [
       "<div>\n",
       "<style scoped>\n",
       "    .dataframe tbody tr th:only-of-type {\n",
       "        vertical-align: middle;\n",
       "    }\n",
       "\n",
       "    .dataframe tbody tr th {\n",
       "        vertical-align: top;\n",
       "    }\n",
       "\n",
       "    .dataframe thead th {\n",
       "        text-align: right;\n",
       "    }\n",
       "</style>\n",
       "<table border=\"1\" class=\"dataframe\">\n",
       "  <thead>\n",
       "    <tr style=\"text-align: right;\">\n",
       "      <th></th>\n",
       "      <th>access_success_rate</th>\n",
       "      <th>resource_utilition_rate</th>\n",
       "      <th>TA</th>\n",
       "      <th>bler</th>\n",
       "      <th>cqi</th>\n",
       "      <th>mcs</th>\n",
       "      <th>data_rate</th>\n",
       "      <th>fault_duration</th>\n",
       "      <th>fault_label</th>\n",
       "      <th>bin</th>\n",
       "    </tr>\n",
       "  </thead>\n",
       "  <tbody>\n",
       "    <tr>\n",
       "      <th>740675</th>\n",
       "      <td>0.999557</td>\n",
       "      <td>0.713249</td>\n",
       "      <td>0.190049</td>\n",
       "      <td>0.112108</td>\n",
       "      <td>0.538759</td>\n",
       "      <td>0.328982</td>\n",
       "      <td>0.015253</td>\n",
       "      <td>0.0</td>\n",
       "      <td>0</td>\n",
       "      <td>0.0</td>\n",
       "    </tr>\n",
       "    <tr>\n",
       "      <th>644766</th>\n",
       "      <td>0.999389</td>\n",
       "      <td>0.515667</td>\n",
       "      <td>0.212570</td>\n",
       "      <td>0.105572</td>\n",
       "      <td>0.455119</td>\n",
       "      <td>0.364273</td>\n",
       "      <td>0.008529</td>\n",
       "      <td>0.0</td>\n",
       "      <td>0</td>\n",
       "      <td>0.0</td>\n",
       "    </tr>\n",
       "    <tr>\n",
       "      <th>517603</th>\n",
       "      <td>1.000000</td>\n",
       "      <td>0.056542</td>\n",
       "      <td>0.142161</td>\n",
       "      <td>0.082371</td>\n",
       "      <td>0.700880</td>\n",
       "      <td>0.312109</td>\n",
       "      <td>0.099659</td>\n",
       "      <td>0.0</td>\n",
       "      <td>0</td>\n",
       "      <td>0.0</td>\n",
       "    </tr>\n",
       "    <tr>\n",
       "      <th>228873</th>\n",
       "      <td>0.995968</td>\n",
       "      <td>0.238538</td>\n",
       "      <td>0.273542</td>\n",
       "      <td>0.116376</td>\n",
       "      <td>0.425696</td>\n",
       "      <td>0.246480</td>\n",
       "      <td>0.007388</td>\n",
       "      <td>0.0</td>\n",
       "      <td>0</td>\n",
       "      <td>0.0</td>\n",
       "    </tr>\n",
       "    <tr>\n",
       "      <th>223983</th>\n",
       "      <td>0.979167</td>\n",
       "      <td>0.086619</td>\n",
       "      <td>0.279544</td>\n",
       "      <td>0.092310</td>\n",
       "      <td>0.332285</td>\n",
       "      <td>0.163319</td>\n",
       "      <td>0.008050</td>\n",
       "      <td>0.0</td>\n",
       "      <td>0</td>\n",
       "      <td>0.0</td>\n",
       "    </tr>\n",
       "    <tr>\n",
       "      <th>...</th>\n",
       "      <td>...</td>\n",
       "      <td>...</td>\n",
       "      <td>...</td>\n",
       "      <td>...</td>\n",
       "      <td>...</td>\n",
       "      <td>...</td>\n",
       "      <td>...</td>\n",
       "      <td>...</td>\n",
       "      <td>...</td>\n",
       "      <td>...</td>\n",
       "    </tr>\n",
       "    <tr>\n",
       "      <th>159356</th>\n",
       "      <td>1.000000</td>\n",
       "      <td>0.090813</td>\n",
       "      <td>0.215226</td>\n",
       "      <td>0.074054</td>\n",
       "      <td>0.640868</td>\n",
       "      <td>0.351496</td>\n",
       "      <td>0.105138</td>\n",
       "      <td>0.0</td>\n",
       "      <td>0</td>\n",
       "      <td>0.0</td>\n",
       "    </tr>\n",
       "    <tr>\n",
       "      <th>597645</th>\n",
       "      <td>1.000000</td>\n",
       "      <td>0.021430</td>\n",
       "      <td>0.248977</td>\n",
       "      <td>0.078248</td>\n",
       "      <td>0.701525</td>\n",
       "      <td>0.267067</td>\n",
       "      <td>0.058080</td>\n",
       "      <td>0.0</td>\n",
       "      <td>0</td>\n",
       "      <td>0.0</td>\n",
       "    </tr>\n",
       "    <tr>\n",
       "      <th>800724</th>\n",
       "      <td>0.999630</td>\n",
       "      <td>0.360800</td>\n",
       "      <td>0.173833</td>\n",
       "      <td>0.110148</td>\n",
       "      <td>0.531136</td>\n",
       "      <td>0.373947</td>\n",
       "      <td>0.058420</td>\n",
       "      <td>0.0</td>\n",
       "      <td>0</td>\n",
       "      <td>0.0</td>\n",
       "    </tr>\n",
       "    <tr>\n",
       "      <th>134207</th>\n",
       "      <td>1.000000</td>\n",
       "      <td>0.023652</td>\n",
       "      <td>0.196302</td>\n",
       "      <td>0.068698</td>\n",
       "      <td>0.603537</td>\n",
       "      <td>0.329425</td>\n",
       "      <td>0.049576</td>\n",
       "      <td>0.0</td>\n",
       "      <td>0</td>\n",
       "      <td>0.0</td>\n",
       "    </tr>\n",
       "    <tr>\n",
       "      <th>213365</th>\n",
       "      <td>1.000000</td>\n",
       "      <td>0.047123</td>\n",
       "      <td>0.188703</td>\n",
       "      <td>0.108184</td>\n",
       "      <td>0.466658</td>\n",
       "      <td>0.310378</td>\n",
       "      <td>0.023758</td>\n",
       "      <td>0.0</td>\n",
       "      <td>0</td>\n",
       "      <td>0.0</td>\n",
       "    </tr>\n",
       "  </tbody>\n",
       "</table>\n",
       "<p>845355 rows × 10 columns</p>\n",
       "</div>"
      ],
      "text/plain": [
       "        access_success_rate  resource_utilition_rate        TA      bler  \\\n",
       "740675             0.999557                 0.713249  0.190049  0.112108   \n",
       "644766             0.999389                 0.515667  0.212570  0.105572   \n",
       "517603             1.000000                 0.056542  0.142161  0.082371   \n",
       "228873             0.995968                 0.238538  0.273542  0.116376   \n",
       "223983             0.979167                 0.086619  0.279544  0.092310   \n",
       "...                     ...                      ...       ...       ...   \n",
       "159356             1.000000                 0.090813  0.215226  0.074054   \n",
       "597645             1.000000                 0.021430  0.248977  0.078248   \n",
       "800724             0.999630                 0.360800  0.173833  0.110148   \n",
       "134207             1.000000                 0.023652  0.196302  0.068698   \n",
       "213365             1.000000                 0.047123  0.188703  0.108184   \n",
       "\n",
       "             cqi       mcs  data_rate  fault_duration  fault_label  bin  \n",
       "740675  0.538759  0.328982   0.015253             0.0            0  0.0  \n",
       "644766  0.455119  0.364273   0.008529             0.0            0  0.0  \n",
       "517603  0.700880  0.312109   0.099659             0.0            0  0.0  \n",
       "228873  0.425696  0.246480   0.007388             0.0            0  0.0  \n",
       "223983  0.332285  0.163319   0.008050             0.0            0  0.0  \n",
       "...          ...       ...        ...             ...          ...  ...  \n",
       "159356  0.640868  0.351496   0.105138             0.0            0  0.0  \n",
       "597645  0.701525  0.267067   0.058080             0.0            0  0.0  \n",
       "800724  0.531136  0.373947   0.058420             0.0            0  0.0  \n",
       "134207  0.603537  0.329425   0.049576             0.0            0  0.0  \n",
       "213365  0.466658  0.310378   0.023758             0.0            0  0.0  \n",
       "\n",
       "[845355 rows x 10 columns]"
      ]
     },
     "execution_count": 14,
     "metadata": {},
     "output_type": "execute_result"
    }
   ],
   "source": [
    "from sklearn.preprocessing import MinMaxScaler\n",
    "\n",
    "scalerMinMax = MinMaxScaler()\n",
    "df_scaled = X_df.copy()\n",
    "\n",
    "\n",
    "X_std  = scalerMinMax.fit_transform(df_scaled)\n",
    "df_scaled[['access_success_rate', 'resource_utilition_rate', 'TA', 'bler', 'cqi',\n",
    "       'mcs', 'data_rate']] = X_std\n",
    "\n",
    "\n",
    "df_scaled['fault_duration'] = df_main['fault_duration']\n",
    "df_scaled['fault_label'] = df_main['fault_label']\n",
    "df_scaled['bin'] = df_main['bin']\n",
    "\n",
    "df_scaled"
   ]
  },
  {
   "cell_type": "code",
   "execution_count": 15,
   "metadata": {},
   "outputs": [],
   "source": [
    "df_x2 = df_scaled.copy()\n",
    "y_bin = df_x2['bin'].values\n",
    "df_x2 = df_x2.drop(columns=['fault_label','bin'])\n",
    "X_std2 = df_x2.values"
   ]
  },
  {
   "cell_type": "markdown",
   "metadata": {},
   "source": [
    "## SMOTE"
   ]
  },
  {
   "cell_type": "code",
   "execution_count": 16,
   "metadata": {},
   "outputs": [],
   "source": [
    "from imblearn.over_sampling import SMOTE\n",
    "sm = SMOTE(sampling_strategy='auto',random_state=15)\n",
    "\n",
    "X_res, y_bin_res = sm.fit_resample(X_std2, y_bin)"
   ]
  },
  {
   "cell_type": "code",
   "execution_count": 18,
   "metadata": {},
   "outputs": [],
   "source": [
    "y_label_res = [faultlabel(b) for b in y_bin_res ]\n",
    "X_res_7d = np.delete(X_res, 7, axis=1)\n"
   ]
  },
  {
   "cell_type": "code",
   "execution_count": 19,
   "metadata": {},
   "outputs": [
    {
     "data": {
      "text/html": [
       "<div>\n",
       "<style scoped>\n",
       "    .dataframe tbody tr th:only-of-type {\n",
       "        vertical-align: middle;\n",
       "    }\n",
       "\n",
       "    .dataframe tbody tr th {\n",
       "        vertical-align: top;\n",
       "    }\n",
       "\n",
       "    .dataframe thead th {\n",
       "        text-align: right;\n",
       "    }\n",
       "</style>\n",
       "<table border=\"1\" class=\"dataframe\">\n",
       "  <thead>\n",
       "    <tr style=\"text-align: right;\">\n",
       "      <th></th>\n",
       "      <th>access_success_rate</th>\n",
       "      <th>resource_utilition_rate</th>\n",
       "      <th>TA</th>\n",
       "      <th>bler</th>\n",
       "      <th>cqi</th>\n",
       "      <th>mcs</th>\n",
       "      <th>data_rate</th>\n",
       "      <th>fault_duration</th>\n",
       "      <th>bin</th>\n",
       "      <th>fault</th>\n",
       "    </tr>\n",
       "  </thead>\n",
       "  <tbody>\n",
       "    <tr>\n",
       "      <th>0</th>\n",
       "      <td>0.999557</td>\n",
       "      <td>0.713249</td>\n",
       "      <td>0.190049</td>\n",
       "      <td>0.112108</td>\n",
       "      <td>0.538759</td>\n",
       "      <td>0.328982</td>\n",
       "      <td>0.015253</td>\n",
       "      <td>0.0</td>\n",
       "      <td>0.0</td>\n",
       "      <td>0</td>\n",
       "    </tr>\n",
       "    <tr>\n",
       "      <th>1</th>\n",
       "      <td>0.999389</td>\n",
       "      <td>0.515667</td>\n",
       "      <td>0.212570</td>\n",
       "      <td>0.105572</td>\n",
       "      <td>0.455119</td>\n",
       "      <td>0.364273</td>\n",
       "      <td>0.008529</td>\n",
       "      <td>0.0</td>\n",
       "      <td>0.0</td>\n",
       "      <td>0</td>\n",
       "    </tr>\n",
       "    <tr>\n",
       "      <th>2</th>\n",
       "      <td>1.000000</td>\n",
       "      <td>0.056542</td>\n",
       "      <td>0.142161</td>\n",
       "      <td>0.082371</td>\n",
       "      <td>0.700880</td>\n",
       "      <td>0.312109</td>\n",
       "      <td>0.099659</td>\n",
       "      <td>0.0</td>\n",
       "      <td>0.0</td>\n",
       "      <td>0</td>\n",
       "    </tr>\n",
       "    <tr>\n",
       "      <th>3</th>\n",
       "      <td>0.995968</td>\n",
       "      <td>0.238538</td>\n",
       "      <td>0.273542</td>\n",
       "      <td>0.116376</td>\n",
       "      <td>0.425696</td>\n",
       "      <td>0.246480</td>\n",
       "      <td>0.007388</td>\n",
       "      <td>0.0</td>\n",
       "      <td>0.0</td>\n",
       "      <td>0</td>\n",
       "    </tr>\n",
       "    <tr>\n",
       "      <th>4</th>\n",
       "      <td>0.979167</td>\n",
       "      <td>0.086619</td>\n",
       "      <td>0.279544</td>\n",
       "      <td>0.092310</td>\n",
       "      <td>0.332285</td>\n",
       "      <td>0.163319</td>\n",
       "      <td>0.008050</td>\n",
       "      <td>0.0</td>\n",
       "      <td>0.0</td>\n",
       "      <td>0</td>\n",
       "    </tr>\n",
       "    <tr>\n",
       "      <th>...</th>\n",
       "      <td>...</td>\n",
       "      <td>...</td>\n",
       "      <td>...</td>\n",
       "      <td>...</td>\n",
       "      <td>...</td>\n",
       "      <td>...</td>\n",
       "      <td>...</td>\n",
       "      <td>...</td>\n",
       "      <td>...</td>\n",
       "      <td>...</td>\n",
       "    </tr>\n",
       "    <tr>\n",
       "      <th>7273210</th>\n",
       "      <td>0.971524</td>\n",
       "      <td>0.289288</td>\n",
       "      <td>0.497793</td>\n",
       "      <td>0.154321</td>\n",
       "      <td>0.336714</td>\n",
       "      <td>0.189303</td>\n",
       "      <td>0.006249</td>\n",
       "      <td>3600.0</td>\n",
       "      <td>8.0</td>\n",
       "      <td>2</td>\n",
       "    </tr>\n",
       "    <tr>\n",
       "      <th>7273211</th>\n",
       "      <td>1.000000</td>\n",
       "      <td>0.019454</td>\n",
       "      <td>0.108085</td>\n",
       "      <td>0.071574</td>\n",
       "      <td>0.800490</td>\n",
       "      <td>0.717675</td>\n",
       "      <td>0.000000</td>\n",
       "      <td>3600.0</td>\n",
       "      <td>8.0</td>\n",
       "      <td>2</td>\n",
       "    </tr>\n",
       "    <tr>\n",
       "      <th>7273212</th>\n",
       "      <td>0.992431</td>\n",
       "      <td>0.868727</td>\n",
       "      <td>0.531945</td>\n",
       "      <td>0.186700</td>\n",
       "      <td>0.446993</td>\n",
       "      <td>0.201127</td>\n",
       "      <td>0.005220</td>\n",
       "      <td>3600.0</td>\n",
       "      <td>8.0</td>\n",
       "      <td>2</td>\n",
       "    </tr>\n",
       "    <tr>\n",
       "      <th>7273213</th>\n",
       "      <td>0.998221</td>\n",
       "      <td>0.037882</td>\n",
       "      <td>0.387400</td>\n",
       "      <td>0.095672</td>\n",
       "      <td>0.433217</td>\n",
       "      <td>0.257015</td>\n",
       "      <td>0.009429</td>\n",
       "      <td>3600.0</td>\n",
       "      <td>8.0</td>\n",
       "      <td>2</td>\n",
       "    </tr>\n",
       "    <tr>\n",
       "      <th>7273214</th>\n",
       "      <td>0.999580</td>\n",
       "      <td>0.245582</td>\n",
       "      <td>0.254855</td>\n",
       "      <td>0.110263</td>\n",
       "      <td>0.639962</td>\n",
       "      <td>0.370646</td>\n",
       "      <td>0.060805</td>\n",
       "      <td>3600.0</td>\n",
       "      <td>8.0</td>\n",
       "      <td>2</td>\n",
       "    </tr>\n",
       "  </tbody>\n",
       "</table>\n",
       "<p>7273215 rows × 10 columns</p>\n",
       "</div>"
      ],
      "text/plain": [
       "         access_success_rate  resource_utilition_rate        TA      bler  \\\n",
       "0                   0.999557                 0.713249  0.190049  0.112108   \n",
       "1                   0.999389                 0.515667  0.212570  0.105572   \n",
       "2                   1.000000                 0.056542  0.142161  0.082371   \n",
       "3                   0.995968                 0.238538  0.273542  0.116376   \n",
       "4                   0.979167                 0.086619  0.279544  0.092310   \n",
       "...                      ...                      ...       ...       ...   \n",
       "7273210             0.971524                 0.289288  0.497793  0.154321   \n",
       "7273211             1.000000                 0.019454  0.108085  0.071574   \n",
       "7273212             0.992431                 0.868727  0.531945  0.186700   \n",
       "7273213             0.998221                 0.037882  0.387400  0.095672   \n",
       "7273214             0.999580                 0.245582  0.254855  0.110263   \n",
       "\n",
       "              cqi       mcs  data_rate  fault_duration  bin  fault  \n",
       "0        0.538759  0.328982   0.015253             0.0  0.0      0  \n",
       "1        0.455119  0.364273   0.008529             0.0  0.0      0  \n",
       "2        0.700880  0.312109   0.099659             0.0  0.0      0  \n",
       "3        0.425696  0.246480   0.007388             0.0  0.0      0  \n",
       "4        0.332285  0.163319   0.008050             0.0  0.0      0  \n",
       "...           ...       ...        ...             ...  ...    ...  \n",
       "7273210  0.336714  0.189303   0.006249          3600.0  8.0      2  \n",
       "7273211  0.800490  0.717675   0.000000          3600.0  8.0      2  \n",
       "7273212  0.446993  0.201127   0.005220          3600.0  8.0      2  \n",
       "7273213  0.433217  0.257015   0.009429          3600.0  8.0      2  \n",
       "7273214  0.639962  0.370646   0.060805          3600.0  8.0      2  \n",
       "\n",
       "[7273215 rows x 10 columns]"
      ]
     },
     "execution_count": 19,
     "metadata": {},
     "output_type": "execute_result"
    }
   ],
   "source": [
    "df_labeled_res = pd.DataFrame()\n",
    "df_labeled_res[['access_success_rate', 'resource_utilition_rate', 'TA', 'bler', 'cqi','mcs', 'data_rate','fault_duration']] = X_res\n",
    "df_labeled_res['bin'] = y_bin_res\n",
    "df_labeled_res['fault'] = y_label_res\n",
    "\n",
    "df_labeled_res"
   ]
  },
  {
   "cell_type": "code",
   "execution_count": 20,
   "metadata": {},
   "outputs": [
    {
     "data": {
      "text/plain": [
       "1746.2522308446678"
      ]
     },
     "execution_count": 20,
     "metadata": {},
     "output_type": "execute_result"
    }
   ],
   "source": [
    "df_labeled_res['fault_duration'].mean()"
   ]
  },
  {
   "cell_type": "code",
   "execution_count": 21,
   "metadata": {},
   "outputs": [],
   "source": [
    "df_0 = df_labeled_res[df_labeled_res['fault'] == 0]\n",
    "df_1 = df_labeled_res[df_labeled_res['fault'] == 1]\n",
    "df_2 = df_labeled_res[df_labeled_res['fault'] == 2]\n",
    "\n",
    "df_2 = df_2.sample(frac= 0.2)"
   ]
  },
  {
   "cell_type": "code",
   "execution_count": 22,
   "metadata": {},
   "outputs": [],
   "source": [
    "df_eq = pd.concat([df_0,df_1,df_2])\n",
    "df_eq = df_eq.sample(frac=1)"
   ]
  },
  {
   "cell_type": "code",
   "execution_count": 24,
   "metadata": {},
   "outputs": [],
   "source": [
    "fault_df_eq = df_eq[df_eq['fault'] != 0]\n",
    "no_fault_df_eq = df_eq[df_eq['fault'] == 0]\n"
   ]
  },
  {
   "cell_type": "code",
   "execution_count": 25,
   "metadata": {},
   "outputs": [
    {
     "data": {
      "text/html": [
       "<div>\n",
       "<style scoped>\n",
       "    .dataframe tbody tr th:only-of-type {\n",
       "        vertical-align: middle;\n",
       "    }\n",
       "\n",
       "    .dataframe tbody tr th {\n",
       "        vertical-align: top;\n",
       "    }\n",
       "\n",
       "    .dataframe thead th {\n",
       "        text-align: right;\n",
       "    }\n",
       "</style>\n",
       "<table border=\"1\" class=\"dataframe\">\n",
       "  <thead>\n",
       "    <tr style=\"text-align: right;\">\n",
       "      <th></th>\n",
       "      <th>access_success_rate</th>\n",
       "      <th>resource_utilition_rate</th>\n",
       "      <th>TA</th>\n",
       "      <th>bler</th>\n",
       "      <th>cqi</th>\n",
       "      <th>mcs</th>\n",
       "      <th>data_rate</th>\n",
       "      <th>fault_duration</th>\n",
       "      <th>bin</th>\n",
       "      <th>fault</th>\n",
       "    </tr>\n",
       "  </thead>\n",
       "  <tbody>\n",
       "    <tr>\n",
       "      <th>4535942</th>\n",
       "      <td>1.000000</td>\n",
       "      <td>0.054972</td>\n",
       "      <td>0.154576</td>\n",
       "      <td>0.083109</td>\n",
       "      <td>0.502720</td>\n",
       "      <td>0.265698</td>\n",
       "      <td>0.030741</td>\n",
       "      <td>2119.000000</td>\n",
       "      <td>5.0</td>\n",
       "      <td>2</td>\n",
       "    </tr>\n",
       "    <tr>\n",
       "      <th>6423628</th>\n",
       "      <td>0.000000</td>\n",
       "      <td>0.009409</td>\n",
       "      <td>0.000000</td>\n",
       "      <td>0.000000</td>\n",
       "      <td>0.000000</td>\n",
       "      <td>0.000000</td>\n",
       "      <td>0.000000</td>\n",
       "      <td>3483.785936</td>\n",
       "      <td>7.0</td>\n",
       "      <td>2</td>\n",
       "    </tr>\n",
       "    <tr>\n",
       "      <th>4859957</th>\n",
       "      <td>0.245761</td>\n",
       "      <td>0.024495</td>\n",
       "      <td>0.041625</td>\n",
       "      <td>0.022324</td>\n",
       "      <td>0.125266</td>\n",
       "      <td>0.059337</td>\n",
       "      <td>0.004731</td>\n",
       "      <td>2450.245761</td>\n",
       "      <td>5.0</td>\n",
       "      <td>2</td>\n",
       "    </tr>\n",
       "    <tr>\n",
       "      <th>4844459</th>\n",
       "      <td>0.999183</td>\n",
       "      <td>0.194685</td>\n",
       "      <td>0.253526</td>\n",
       "      <td>0.099492</td>\n",
       "      <td>0.658546</td>\n",
       "      <td>0.339172</td>\n",
       "      <td>0.033392</td>\n",
       "      <td>2136.000000</td>\n",
       "      <td>5.0</td>\n",
       "      <td>2</td>\n",
       "    </tr>\n",
       "    <tr>\n",
       "      <th>1273511</th>\n",
       "      <td>0.993627</td>\n",
       "      <td>0.578756</td>\n",
       "      <td>0.498345</td>\n",
       "      <td>0.183440</td>\n",
       "      <td>0.326668</td>\n",
       "      <td>0.105073</td>\n",
       "      <td>0.005994</td>\n",
       "      <td>388.000000</td>\n",
       "      <td>1.0</td>\n",
       "      <td>1</td>\n",
       "    </tr>\n",
       "    <tr>\n",
       "      <th>...</th>\n",
       "      <td>...</td>\n",
       "      <td>...</td>\n",
       "      <td>...</td>\n",
       "      <td>...</td>\n",
       "      <td>...</td>\n",
       "      <td>...</td>\n",
       "      <td>...</td>\n",
       "      <td>...</td>\n",
       "      <td>...</td>\n",
       "      <td>...</td>\n",
       "    </tr>\n",
       "    <tr>\n",
       "      <th>1498648</th>\n",
       "      <td>0.999323</td>\n",
       "      <td>0.207876</td>\n",
       "      <td>0.214422</td>\n",
       "      <td>0.114750</td>\n",
       "      <td>0.636968</td>\n",
       "      <td>0.316633</td>\n",
       "      <td>0.032314</td>\n",
       "      <td>420.000000</td>\n",
       "      <td>1.0</td>\n",
       "      <td>1</td>\n",
       "    </tr>\n",
       "    <tr>\n",
       "      <th>4636456</th>\n",
       "      <td>0.999474</td>\n",
       "      <td>0.100623</td>\n",
       "      <td>0.233782</td>\n",
       "      <td>0.098491</td>\n",
       "      <td>0.518525</td>\n",
       "      <td>0.247258</td>\n",
       "      <td>0.015349</td>\n",
       "      <td>2241.228361</td>\n",
       "      <td>5.0</td>\n",
       "      <td>2</td>\n",
       "    </tr>\n",
       "    <tr>\n",
       "      <th>1920965</th>\n",
       "      <td>1.000000</td>\n",
       "      <td>0.105160</td>\n",
       "      <td>0.493194</td>\n",
       "      <td>0.115937</td>\n",
       "      <td>0.408273</td>\n",
       "      <td>0.172839</td>\n",
       "      <td>0.011621</td>\n",
       "      <td>682.000000</td>\n",
       "      <td>2.0</td>\n",
       "      <td>2</td>\n",
       "    </tr>\n",
       "    <tr>\n",
       "      <th>905097</th>\n",
       "      <td>0.999909</td>\n",
       "      <td>0.534398</td>\n",
       "      <td>0.313590</td>\n",
       "      <td>0.118547</td>\n",
       "      <td>0.473503</td>\n",
       "      <td>0.285639</td>\n",
       "      <td>0.017821</td>\n",
       "      <td>91.000000</td>\n",
       "      <td>1.0</td>\n",
       "      <td>1</td>\n",
       "    </tr>\n",
       "    <tr>\n",
       "      <th>2093731</th>\n",
       "      <td>0.997273</td>\n",
       "      <td>0.532200</td>\n",
       "      <td>0.415224</td>\n",
       "      <td>0.115704</td>\n",
       "      <td>0.553673</td>\n",
       "      <td>0.355667</td>\n",
       "      <td>0.011355</td>\n",
       "      <td>646.978865</td>\n",
       "      <td>2.0</td>\n",
       "      <td>2</td>\n",
       "    </tr>\n",
       "  </tbody>\n",
       "</table>\n",
       "<p>1939524 rows × 10 columns</p>\n",
       "</div>"
      ],
      "text/plain": [
       "         access_success_rate  resource_utilition_rate        TA      bler  \\\n",
       "4535942             1.000000                 0.054972  0.154576  0.083109   \n",
       "6423628             0.000000                 0.009409  0.000000  0.000000   \n",
       "4859957             0.245761                 0.024495  0.041625  0.022324   \n",
       "4844459             0.999183                 0.194685  0.253526  0.099492   \n",
       "1273511             0.993627                 0.578756  0.498345  0.183440   \n",
       "...                      ...                      ...       ...       ...   \n",
       "1498648             0.999323                 0.207876  0.214422  0.114750   \n",
       "4636456             0.999474                 0.100623  0.233782  0.098491   \n",
       "1920965             1.000000                 0.105160  0.493194  0.115937   \n",
       "905097              0.999909                 0.534398  0.313590  0.118547   \n",
       "2093731             0.997273                 0.532200  0.415224  0.115704   \n",
       "\n",
       "              cqi       mcs  data_rate  fault_duration  bin  fault  \n",
       "4535942  0.502720  0.265698   0.030741     2119.000000  5.0      2  \n",
       "6423628  0.000000  0.000000   0.000000     3483.785936  7.0      2  \n",
       "4859957  0.125266  0.059337   0.004731     2450.245761  5.0      2  \n",
       "4844459  0.658546  0.339172   0.033392     2136.000000  5.0      2  \n",
       "1273511  0.326668  0.105073   0.005994      388.000000  1.0      1  \n",
       "...           ...       ...        ...             ...  ...    ...  \n",
       "1498648  0.636968  0.316633   0.032314      420.000000  1.0      1  \n",
       "4636456  0.518525  0.247258   0.015349     2241.228361  5.0      2  \n",
       "1920965  0.408273  0.172839   0.011621      682.000000  2.0      2  \n",
       "905097   0.473503  0.285639   0.017821       91.000000  1.0      1  \n",
       "2093731  0.553673  0.355667   0.011355      646.978865  2.0      2  \n",
       "\n",
       "[1939524 rows x 10 columns]"
      ]
     },
     "execution_count": 25,
     "metadata": {},
     "output_type": "execute_result"
    }
   ],
   "source": [
    "df_fault = fault_df_eq.copy()\n",
    "\n",
    "scalerMinMax.fit(df_fault.drop(columns=['fault_duration', 'bin','fault']).values, df_fault['fault'].values)\n",
    "X_std  = scalerMinMax.inverse_transform(df_fault.drop(columns=['fault_duration', 'bin','fault']).values)\n",
    "\n",
    "df_fault[['access_success_rate', 'resource_utilition_rate', 'TA', 'bler', 'cqi','mcs', 'data_rate']] = X_std\n",
    "\n",
    "\n",
    "df_fault['fault_duration'] = df_fault['fault_duration']\n",
    "df_fault['fault'] = df_fault['fault']\n",
    "df_fault['bin'] = df_fault['bin']\n",
    "\n",
    "df_fault"
   ]
  },
  {
   "cell_type": "markdown",
   "metadata": {},
   "source": [
    "## construindo o dataset"
   ]
  },
  {
   "cell_type": "code",
   "execution_count": 26,
   "metadata": {},
   "outputs": [
    {
     "data": {
      "text/plain": [
       "1939524"
      ]
     },
     "execution_count": 26,
     "metadata": {},
     "output_type": "execute_result"
    }
   ],
   "source": [
    "len(fault_df_eq )"
   ]
  },
  {
   "cell_type": "code",
   "execution_count": 27,
   "metadata": {},
   "outputs": [
    {
     "data": {
      "text/plain": [
       "808135"
      ]
     },
     "execution_count": 27,
     "metadata": {},
     "output_type": "execute_result"
    }
   ],
   "source": [
    "len(no_fault_df_eq) "
   ]
  },
  {
   "cell_type": "code",
   "execution_count": 28,
   "metadata": {},
   "outputs": [],
   "source": [
    "ratio = len(no_fault_df_eq)/len(fault_df_eq)\n",
    "faults = fault_df_eq.sample(frac=ratio)"
   ]
  },
  {
   "cell_type": "code",
   "execution_count": 29,
   "metadata": {},
   "outputs": [
    {
     "name": "stdout",
     "output_type": "stream",
     "text": [
      "FAULTS : (808135, 7) NO FAULTS: (808135, 7)\n"
     ]
    }
   ],
   "source": [
    "labels = faults['fault']\n",
    "faults = faults.drop(columns=['fault_duration', 'bin','fault'])\n",
    "faults_v = faults.values\n",
    "\n",
    "no_faults_v = no_fault_df_eq.drop(columns=['fault_duration', 'bin','fault']).values\n",
    "\n",
    "print(f\"FAULTS : {np.shape(faults_v)} NO FAULTS: {np.shape(no_faults_v)}\")\n",
    "\n"
   ]
  },
  {
   "cell_type": "code",
   "execution_count": 45,
   "metadata": {},
   "outputs": [],
   "source": [
    "from sklearn.metrics import ConfusionMatrixDisplay, accuracy_score, confusion_matrix, f1_score, recall_score\n",
    "\n",
    "def show_results(y_test, predictions):\n",
    "  print('Accuracy score:', accuracy_score(y_test, predictions))\n",
    "  print('f1 score:', f1_score(y_test, predictions))\n",
    "  print('recall score:', recall_score(y_test, predictions))\n",
    "\n",
    "  font = {'family' : 'serif', 'weight' : 'bold', 'size':18}\n",
    "  plt.rc('font', **font)\n",
    "  disp = ConfusionMatrixDisplay(confusion_matrix(y_test, predictions), display_labels=None)\n",
    "  disp.plot()\n",
    "  plt.show()\n",
    "\n"
   ]
  },
  {
   "cell_type": "markdown",
   "metadata": {},
   "source": [
    "## GAN"
   ]
  },
  {
   "cell_type": "code",
   "execution_count": 2,
   "metadata": {},
   "outputs": [],
   "source": [
    "import torch\n",
    "import torch.nn as nn\n",
    "from joblib import dump, load"
   ]
  },
  {
   "cell_type": "code",
   "execution_count": 3,
   "metadata": {},
   "outputs": [],
   "source": [
    "kpi_df = pd.read_csv(\"/home/usr/Documents/reg-class-fault-detection/dataset/smenn_dataset.csv\")"
   ]
  },
  {
   "cell_type": "code",
   "execution_count": 5,
   "metadata": {},
   "outputs": [],
   "source": [
    "kpi_df = kpi_df.drop(columns=['Unnamed: 0'])"
   ]
  },
  {
   "cell_type": "code",
   "execution_count": 7,
   "metadata": {},
   "outputs": [],
   "source": [
    "fault_df = kpi_df[kpi_df['fault'] > 0]"
   ]
  },
  {
   "cell_type": "code",
   "execution_count": 8,
   "metadata": {},
   "outputs": [],
   "source": [
    "classifier = load('/home/usr/Documents/reg-class-fault-detection/dataset/models/smoteen trained models/xgb_075split_non-opt.joblib')"
   ]
  },
  {
   "cell_type": "code",
   "execution_count": 10,
   "metadata": {},
   "outputs": [],
   "source": [
    "# Generator\n",
    "class Generator(nn.Module):\n",
    "    def __init__(self, input_shape):\n",
    "        super(Generator, self).__init__()\n",
    "        self.model = nn.Sequential(\n",
    "            nn.Linear(input_shape, input_shape**2),\n",
    "            nn.ReLU(),\n",
    "            nn.Linear(input_shape**2, input_shape)\n",
    "        )\n",
    "\n",
    "    def forward(self, x):\n",
    "        return self.model(x)\n",
    "\n",
    "\n",
    "# Discriminator\n",
    "class Discriminator(nn.Module):\n",
    "    def __init__(self, input_shape):\n",
    "        super(Discriminator, self).__init__()\n",
    "        self.model = nn.Sequential(\n",
    "            nn.Linear(input_shape, input_shape**2),\n",
    "            nn.ReLU(),\n",
    "            nn.Linear(input_shape**2, 1),\n",
    "            nn.Sigmoid()\n",
    "        )\n",
    "\n",
    "    def forward(self, x):\n",
    "\n",
    "        return self.model(x)\n"
   ]
  },
  {
   "cell_type": "code",
   "execution_count": 11,
   "metadata": {},
   "outputs": [],
   "source": [
    "# Initialize the models and move them to the device\n",
    "generator = Generator(fault_df.values.shape[1])\n",
    "discriminator = Discriminator(fault_df.values.shape[1])\n",
    "\n",
    "# Loss and optimizers\n",
    "criterion = nn.BCELoss()\n",
    "optimizer_g = torch.optim.Adam(generator.parameters(), lr=0.001)\n",
    "optimizer_d = torch.optim.Adam(discriminator.parameters(), lr=0.001)"
   ]
  },
  {
   "cell_type": "code",
   "execution_count": 12,
   "metadata": {},
   "outputs": [],
   "source": [
    "data = fault_df.values"
   ]
  },
  {
   "cell_type": "code",
   "execution_count": 49,
   "metadata": {},
   "outputs": [
    {
     "name": "stdout",
     "output_type": "stream",
     "text": [
      "Epoch [1000/20000], d_loss: 1.2090, g_loss: 0.9810\n",
      "Epoch [2000/20000], d_loss: 1.2812, g_loss: 0.7438\n",
      "Epoch [3000/20000], d_loss: 1.4390, g_loss: 1.3611\n",
      "Epoch [4000/20000], d_loss: 1.0816, g_loss: 0.9553\n"
     ]
    }
   ],
   "source": [
    "# Training the GAN\n",
    "num_epochs = 5000\n",
    "for epoch in range(num_epochs):\n",
    "    # Train discriminator\n",
    "    optimizer_d.zero_grad()\n",
    "\n",
    "    real_data = torch.tensor(data,dtype=torch.float32)\n",
    "    real_labels = torch.ones(len(data), 1, dtype=torch.float32)\n",
    "    outputs = discriminator(real_data)\n",
    "    d_loss_real = criterion(outputs, real_labels)\n",
    "\n",
    "    # Generate fake data\n",
    "    noise = torch.rand(size=(len(data), data.shape[1]))\n",
    "    fake_data = generator(noise)\n",
    "    fake_labels = torch.zeros(len(data), 1)\n",
    "    outputs = discriminator(fake_data.detach())\n",
    "    d_loss_fake = criterion(outputs, fake_labels)\n",
    "\n",
    "    # Backprop and optimize\n",
    "    d_loss = d_loss_real + d_loss_fake\n",
    "    d_loss.backward()\n",
    "    optimizer_d.step()\n",
    "\n",
    "    # Train generator\n",
    "    optimizer_g.zero_grad()\n",
    "    outputs = discriminator(fake_data)\n",
    "    g_loss = criterion(outputs, real_labels)\n",
    "    g_loss.backward()\n",
    "    optimizer_g.step()\n",
    "\n",
    "    # Print losses\n",
    "    if (epoch+1) % 1000 == 0:\n",
    "        print(f\"Epoch [{epoch+1}/{num_epochs}], d_loss: {d_loss.item():.4f}, g_loss: {g_loss.item():.4f}\")"
   ]
  },
  {
   "cell_type": "code",
   "execution_count": null,
   "metadata": {},
   "outputs": [],
   "source": [
    "with torch.no_grad():\n",
    "    test_noise = torch.rand(size=(len(data), data.shape[1]))\n",
    "    generated_data = generator(test_noise)\n"
   ]
  },
  {
   "cell_type": "code",
   "execution_count": null,
   "metadata": {},
   "outputs": [
    {
     "data": {
      "text/plain": [
       "(39864, 28)"
      ]
     },
     "execution_count": 35,
     "metadata": {},
     "output_type": "execute_result"
    }
   ],
   "source": [
    "np.shape(data)"
   ]
  },
  {
   "cell_type": "code",
   "execution_count": null,
   "metadata": {},
   "outputs": [
    {
     "data": {
      "text/plain": [
       "tensor([[ 9.7167e-01,  1.9959e-03,  2.7522e-01,  ...,  1.1703e-01,\n",
       "         -3.1404e-02,  5.2028e-01],\n",
       "        [ 1.0164e+00, -3.6105e-03,  2.6272e-01,  ...,  5.8649e-02,\n",
       "         -6.8749e-02,  5.2554e-01],\n",
       "        [ 9.7898e-01, -2.4347e-03,  2.6891e-01,  ...,  9.9789e-02,\n",
       "         -5.3593e-02,  5.2350e-01],\n",
       "        ...,\n",
       "        [ 1.0053e+00, -9.6552e-05,  2.6841e-01,  ...,  7.7848e-02,\n",
       "         -4.9751e-02,  5.2280e-01],\n",
       "        [ 1.0201e+00,  1.2727e-03,  2.6819e-01,  ...,  6.5582e-02,\n",
       "         -4.7354e-02,  5.2237e-01],\n",
       "        [ 9.9561e-01,  9.2520e-03,  2.8101e-01,  ...,  1.0828e-01,\n",
       "         -4.4409e-03,  5.1619e-01]])"
      ]
     },
     "execution_count": 34,
     "metadata": {},
     "output_type": "execute_result"
    }
   ],
   "source": [
    "generated_data"
   ]
  },
  {
   "cell_type": "code",
   "execution_count": null,
   "metadata": {},
   "outputs": [
    {
     "ename": "ValueError",
     "evalue": "Feature shape mismatch, expected: 31, got 28",
     "output_type": "error",
     "traceback": [
      "\u001b[0;31m---------------------------------------------------------------------------\u001b[0m",
      "\u001b[0;31mValueError\u001b[0m                                Traceback (most recent call last)",
      "\u001b[1;32m/home/usr/Documents/notebooks/fault_generator.ipynb Cell 38\u001b[0m line \u001b[0;36m1\n\u001b[0;32m----> <a href='vscode-notebook-cell:/home/usr/Documents/notebooks/fault_generator.ipynb#Y121sZmlsZQ%3D%3D?line=0'>1</a>\u001b[0m predictions \u001b[39m=\u001b[39m classifier\u001b[39m.\u001b[39;49mpredict(generated_data)\n\u001b[1;32m      <a href='vscode-notebook-cell:/home/usr/Documents/notebooks/fault_generator.ipynb#Y121sZmlsZQ%3D%3D?line=1'>2</a>\u001b[0m labels \u001b[39m=\u001b[39m [\u001b[39m1\u001b[39m \u001b[39mfor\u001b[39;00m line \u001b[39min\u001b[39;00m generated_data]\n\u001b[1;32m      <a href='vscode-notebook-cell:/home/usr/Documents/notebooks/fault_generator.ipynb#Y121sZmlsZQ%3D%3D?line=2'>3</a>\u001b[0m show_results(labels, predictions)\n",
      "File \u001b[0;32m~/anaconda3/envs/cnn-env/lib/python3.11/site-packages/xgboost/sklearn.py:1553\u001b[0m, in \u001b[0;36mXGBClassifier.predict\u001b[0;34m(self, X, output_margin, validate_features, base_margin, iteration_range)\u001b[0m\n\u001b[1;32m   1544\u001b[0m \u001b[39mdef\u001b[39;00m \u001b[39mpredict\u001b[39m(\n\u001b[1;32m   1545\u001b[0m     \u001b[39mself\u001b[39m,\n\u001b[1;32m   1546\u001b[0m     X: ArrayLike,\n\u001b[0;32m   (...)\u001b[0m\n\u001b[1;32m   1550\u001b[0m     iteration_range: Optional[Tuple[\u001b[39mint\u001b[39m, \u001b[39mint\u001b[39m]] \u001b[39m=\u001b[39m \u001b[39mNone\u001b[39;00m,\n\u001b[1;32m   1551\u001b[0m ) \u001b[39m-\u001b[39m\u001b[39m>\u001b[39m ArrayLike:\n\u001b[1;32m   1552\u001b[0m     \u001b[39mwith\u001b[39;00m config_context(verbosity\u001b[39m=\u001b[39m\u001b[39mself\u001b[39m\u001b[39m.\u001b[39mverbosity):\n\u001b[0;32m-> 1553\u001b[0m         class_probs \u001b[39m=\u001b[39m \u001b[39msuper\u001b[39;49m()\u001b[39m.\u001b[39;49mpredict(\n\u001b[1;32m   1554\u001b[0m             X\u001b[39m=\u001b[39;49mX,\n\u001b[1;32m   1555\u001b[0m             output_margin\u001b[39m=\u001b[39;49moutput_margin,\n\u001b[1;32m   1556\u001b[0m             validate_features\u001b[39m=\u001b[39;49mvalidate_features,\n\u001b[1;32m   1557\u001b[0m             base_margin\u001b[39m=\u001b[39;49mbase_margin,\n\u001b[1;32m   1558\u001b[0m             iteration_range\u001b[39m=\u001b[39;49miteration_range,\n\u001b[1;32m   1559\u001b[0m         )\n\u001b[1;32m   1560\u001b[0m         \u001b[39mif\u001b[39;00m output_margin:\n\u001b[1;32m   1561\u001b[0m             \u001b[39m# If output_margin is active, simply return the scores\u001b[39;00m\n\u001b[1;32m   1562\u001b[0m             \u001b[39mreturn\u001b[39;00m class_probs\n",
      "File \u001b[0;32m~/anaconda3/envs/cnn-env/lib/python3.11/site-packages/xgboost/sklearn.py:1168\u001b[0m, in \u001b[0;36mXGBModel.predict\u001b[0;34m(self, X, output_margin, validate_features, base_margin, iteration_range)\u001b[0m\n\u001b[1;32m   1166\u001b[0m \u001b[39mif\u001b[39;00m \u001b[39mself\u001b[39m\u001b[39m.\u001b[39m_can_use_inplace_predict():\n\u001b[1;32m   1167\u001b[0m     \u001b[39mtry\u001b[39;00m:\n\u001b[0;32m-> 1168\u001b[0m         predts \u001b[39m=\u001b[39m \u001b[39mself\u001b[39;49m\u001b[39m.\u001b[39;49mget_booster()\u001b[39m.\u001b[39;49minplace_predict(\n\u001b[1;32m   1169\u001b[0m             data\u001b[39m=\u001b[39;49mX,\n\u001b[1;32m   1170\u001b[0m             iteration_range\u001b[39m=\u001b[39;49miteration_range,\n\u001b[1;32m   1171\u001b[0m             predict_type\u001b[39m=\u001b[39;49m\u001b[39m\"\u001b[39;49m\u001b[39mmargin\u001b[39;49m\u001b[39m\"\u001b[39;49m \u001b[39mif\u001b[39;49;00m output_margin \u001b[39melse\u001b[39;49;00m \u001b[39m\"\u001b[39;49m\u001b[39mvalue\u001b[39;49m\u001b[39m\"\u001b[39;49m,\n\u001b[1;32m   1172\u001b[0m             missing\u001b[39m=\u001b[39;49m\u001b[39mself\u001b[39;49m\u001b[39m.\u001b[39;49mmissing,\n\u001b[1;32m   1173\u001b[0m             base_margin\u001b[39m=\u001b[39;49mbase_margin,\n\u001b[1;32m   1174\u001b[0m             validate_features\u001b[39m=\u001b[39;49mvalidate_features,\n\u001b[1;32m   1175\u001b[0m         )\n\u001b[1;32m   1176\u001b[0m         \u001b[39mif\u001b[39;00m _is_cupy_array(predts):\n\u001b[1;32m   1177\u001b[0m             \u001b[39mimport\u001b[39;00m \u001b[39mcupy\u001b[39;00m  \u001b[39m# pylint: disable=import-error\u001b[39;00m\n",
      "File \u001b[0;32m~/anaconda3/envs/cnn-env/lib/python3.11/site-packages/xgboost/core.py:2428\u001b[0m, in \u001b[0;36mBooster.inplace_predict\u001b[0;34m(self, data, iteration_range, predict_type, missing, validate_features, base_margin, strict_shape)\u001b[0m\n\u001b[1;32m   2424\u001b[0m         \u001b[39mraise\u001b[39;00m \u001b[39mTypeError\u001b[39;00m(\n\u001b[1;32m   2425\u001b[0m             \u001b[39m\"\u001b[39m\u001b[39m`shape` attribute is required when `validate_features` is True.\u001b[39m\u001b[39m\"\u001b[39m\n\u001b[1;32m   2426\u001b[0m         )\n\u001b[1;32m   2427\u001b[0m     \u001b[39mif\u001b[39;00m \u001b[39mlen\u001b[39m(data\u001b[39m.\u001b[39mshape) \u001b[39m!=\u001b[39m \u001b[39m1\u001b[39m \u001b[39mand\u001b[39;00m \u001b[39mself\u001b[39m\u001b[39m.\u001b[39mnum_features() \u001b[39m!=\u001b[39m data\u001b[39m.\u001b[39mshape[\u001b[39m1\u001b[39m]:\n\u001b[0;32m-> 2428\u001b[0m         \u001b[39mraise\u001b[39;00m \u001b[39mValueError\u001b[39;00m(\n\u001b[1;32m   2429\u001b[0m             \u001b[39mf\u001b[39m\u001b[39m\"\u001b[39m\u001b[39mFeature shape mismatch, expected: \u001b[39m\u001b[39m{\u001b[39;00m\u001b[39mself\u001b[39m\u001b[39m.\u001b[39mnum_features()\u001b[39m}\u001b[39;00m\u001b[39m, \u001b[39m\u001b[39m\"\u001b[39m\n\u001b[1;32m   2430\u001b[0m             \u001b[39mf\u001b[39m\u001b[39m\"\u001b[39m\u001b[39mgot \u001b[39m\u001b[39m{\u001b[39;00mdata\u001b[39m.\u001b[39mshape[\u001b[39m1\u001b[39m]\u001b[39m}\u001b[39;00m\u001b[39m\"\u001b[39m\n\u001b[1;32m   2431\u001b[0m         )\n\u001b[1;32m   2433\u001b[0m \u001b[39mif\u001b[39;00m _is_np_array_like(data):\n\u001b[1;32m   2434\u001b[0m     \u001b[39mfrom\u001b[39;00m \u001b[39m.\u001b[39;00m\u001b[39mdata\u001b[39;00m \u001b[39mimport\u001b[39;00m _ensure_np_dtype\n",
      "\u001b[0;31mValueError\u001b[0m: Feature shape mismatch, expected: 31, got 28"
     ]
    }
   ],
   "source": [
    "predictions = classifier.predict(generated_data)\n",
    "labels = [1 for line in generated_data]\n",
    "show_results(labels, predictions)"
   ]
  },
  {
   "cell_type": "code",
   "execution_count": null,
   "metadata": {},
   "outputs": [],
   "source": [
    "def correlation(df, fontsize=10):\n",
    "\n",
    "  font = {'family' : 'serif', 'weight' : 'bold', 'size':fontsize}\n",
    "  plt.rc('font', **font)\n",
    "\n",
    "  corr_matrix = df.corr()\n",
    "  sn.heatmap(corr_matrix, annot=True)\n",
    "  plt.show()"
   ]
  },
  {
   "cell_type": "code",
   "execution_count": null,
   "metadata": {},
   "outputs": [
    {
     "name": "stdout",
     "output_type": "stream",
     "text": [
      "/home/usr/Documents/reg-class-fault-detection/dataset/models\n"
     ]
    },
    {
     "name": "stderr",
     "output_type": "stream",
     "text": [
      "/home/usr/anaconda3/envs/cnn-env/lib/python3.11/site-packages/IPython/core/magics/osm.py:417: UserWarning: using dhist requires you to install the `pickleshare` library.\n",
      "  self.shell.db['dhist'] = compress_dhist(dhist)[-100:]\n"
     ]
    }
   ],
   "source": [
    "# %cd \"/home/usr/Documents/reg-class-fault-detection/dataset/models\"\n",
    "# torch.save(generator, 'GAN-FAULT-GENERATOR.pt')"
   ]
  },
  {
   "cell_type": "code",
   "execution_count": null,
   "metadata": {},
   "outputs": [],
   "source": [
    "# with torch.no_grad():\n",
    "#     test_noise = torch.rand(size=(len(data), 7))\n",
    "#     generated_data = generator(test_noise)\n"
   ]
  },
  {
   "cell_type": "code",
   "execution_count": null,
   "metadata": {},
   "outputs": [],
   "source": [
    "df_fake_data = pd.DataFrame()\n",
    "df_fake_data[['access_success_rate','resource_utilition_rate',\t'TA',\t'bler','cqi','mcs','data_rate']] = generated_data"
   ]
  },
  {
   "cell_type": "code",
   "execution_count": null,
   "metadata": {},
   "outputs": [
    {
     "data": {
      "text/html": [
       "<div>\n",
       "<style scoped>\n",
       "    .dataframe tbody tr th:only-of-type {\n",
       "        vertical-align: middle;\n",
       "    }\n",
       "\n",
       "    .dataframe tbody tr th {\n",
       "        vertical-align: top;\n",
       "    }\n",
       "\n",
       "    .dataframe thead th {\n",
       "        text-align: right;\n",
       "    }\n",
       "</style>\n",
       "<table border=\"1\" class=\"dataframe\">\n",
       "  <thead>\n",
       "    <tr style=\"text-align: right;\">\n",
       "      <th></th>\n",
       "      <th>access_success_rate</th>\n",
       "      <th>resource_utilition_rate</th>\n",
       "      <th>TA</th>\n",
       "      <th>bler</th>\n",
       "      <th>cqi</th>\n",
       "      <th>mcs</th>\n",
       "      <th>data_rate</th>\n",
       "    </tr>\n",
       "  </thead>\n",
       "  <tbody>\n",
       "    <tr>\n",
       "      <th>0</th>\n",
       "      <td>0.579052</td>\n",
       "      <td>0.120539</td>\n",
       "      <td>-0.087093</td>\n",
       "      <td>0.216550</td>\n",
       "      <td>0.537700</td>\n",
       "      <td>0.057538</td>\n",
       "      <td>-0.019193</td>\n",
       "    </tr>\n",
       "    <tr>\n",
       "      <th>1</th>\n",
       "      <td>0.436442</td>\n",
       "      <td>0.094721</td>\n",
       "      <td>-0.297409</td>\n",
       "      <td>0.268563</td>\n",
       "      <td>0.501760</td>\n",
       "      <td>-0.084367</td>\n",
       "      <td>-0.057537</td>\n",
       "    </tr>\n",
       "    <tr>\n",
       "      <th>2</th>\n",
       "      <td>0.551934</td>\n",
       "      <td>0.103362</td>\n",
       "      <td>-0.160817</td>\n",
       "      <td>0.216389</td>\n",
       "      <td>0.520568</td>\n",
       "      <td>0.011999</td>\n",
       "      <td>-0.023098</td>\n",
       "    </tr>\n",
       "    <tr>\n",
       "      <th>3</th>\n",
       "      <td>0.540352</td>\n",
       "      <td>0.117929</td>\n",
       "      <td>-0.144303</td>\n",
       "      <td>0.225551</td>\n",
       "      <td>0.517738</td>\n",
       "      <td>0.026409</td>\n",
       "      <td>-0.026503</td>\n",
       "    </tr>\n",
       "    <tr>\n",
       "      <th>4</th>\n",
       "      <td>0.640090</td>\n",
       "      <td>0.139658</td>\n",
       "      <td>-0.027603</td>\n",
       "      <td>0.188407</td>\n",
       "      <td>0.538329</td>\n",
       "      <td>0.099395</td>\n",
       "      <td>-0.001889</td>\n",
       "    </tr>\n",
       "    <tr>\n",
       "      <th>...</th>\n",
       "      <td>...</td>\n",
       "      <td>...</td>\n",
       "      <td>...</td>\n",
       "      <td>...</td>\n",
       "      <td>...</td>\n",
       "      <td>...</td>\n",
       "      <td>...</td>\n",
       "    </tr>\n",
       "    <tr>\n",
       "      <th>38785</th>\n",
       "      <td>0.479390</td>\n",
       "      <td>0.104198</td>\n",
       "      <td>-0.240508</td>\n",
       "      <td>0.251659</td>\n",
       "      <td>0.509472</td>\n",
       "      <td>-0.045612</td>\n",
       "      <td>-0.045801</td>\n",
       "    </tr>\n",
       "    <tr>\n",
       "      <th>38786</th>\n",
       "      <td>0.477187</td>\n",
       "      <td>0.109172</td>\n",
       "      <td>-0.242968</td>\n",
       "      <td>0.251788</td>\n",
       "      <td>0.520413</td>\n",
       "      <td>-0.049249</td>\n",
       "      <td>-0.046862</td>\n",
       "    </tr>\n",
       "    <tr>\n",
       "      <th>38787</th>\n",
       "      <td>0.551801</td>\n",
       "      <td>0.120177</td>\n",
       "      <td>-0.144573</td>\n",
       "      <td>0.223158</td>\n",
       "      <td>0.522475</td>\n",
       "      <td>0.019728</td>\n",
       "      <td>-0.026014</td>\n",
       "    </tr>\n",
       "    <tr>\n",
       "      <th>38788</th>\n",
       "      <td>0.451867</td>\n",
       "      <td>0.098125</td>\n",
       "      <td>-0.276973</td>\n",
       "      <td>0.262492</td>\n",
       "      <td>0.504530</td>\n",
       "      <td>-0.070448</td>\n",
       "      <td>-0.053322</td>\n",
       "    </tr>\n",
       "    <tr>\n",
       "      <th>38789</th>\n",
       "      <td>0.471866</td>\n",
       "      <td>0.102538</td>\n",
       "      <td>-0.250477</td>\n",
       "      <td>0.254620</td>\n",
       "      <td>0.508121</td>\n",
       "      <td>-0.052402</td>\n",
       "      <td>-0.047857</td>\n",
       "    </tr>\n",
       "  </tbody>\n",
       "</table>\n",
       "<p>38790 rows × 7 columns</p>\n",
       "</div>"
      ],
      "text/plain": [
       "       access_success_rate  resource_utilition_rate        TA      bler  \\\n",
       "0                 0.579052                 0.120539 -0.087093  0.216550   \n",
       "1                 0.436442                 0.094721 -0.297409  0.268563   \n",
       "2                 0.551934                 0.103362 -0.160817  0.216389   \n",
       "3                 0.540352                 0.117929 -0.144303  0.225551   \n",
       "4                 0.640090                 0.139658 -0.027603  0.188407   \n",
       "...                    ...                      ...       ...       ...   \n",
       "38785             0.479390                 0.104198 -0.240508  0.251659   \n",
       "38786             0.477187                 0.109172 -0.242968  0.251788   \n",
       "38787             0.551801                 0.120177 -0.144573  0.223158   \n",
       "38788             0.451867                 0.098125 -0.276973  0.262492   \n",
       "38789             0.471866                 0.102538 -0.250477  0.254620   \n",
       "\n",
       "            cqi       mcs  data_rate  \n",
       "0      0.537700  0.057538  -0.019193  \n",
       "1      0.501760 -0.084367  -0.057537  \n",
       "2      0.520568  0.011999  -0.023098  \n",
       "3      0.517738  0.026409  -0.026503  \n",
       "4      0.538329  0.099395  -0.001889  \n",
       "...         ...       ...        ...  \n",
       "38785  0.509472 -0.045612  -0.045801  \n",
       "38786  0.520413 -0.049249  -0.046862  \n",
       "38787  0.522475  0.019728  -0.026014  \n",
       "38788  0.504530 -0.070448  -0.053322  \n",
       "38789  0.508121 -0.052402  -0.047857  \n",
       "\n",
       "[38790 rows x 7 columns]"
      ]
     },
     "execution_count": 70,
     "metadata": {},
     "output_type": "execute_result"
    }
   ],
   "source": [
    "df_fake_data"
   ]
  },
  {
   "cell_type": "code",
   "execution_count": null,
   "metadata": {},
   "outputs": [
    {
     "data": {
      "image/png": "[encoded data removed]",
      "text/plain": [
       "<Figure size 640x480 with 2 Axes>"
      ]
     },
     "metadata": {},
     "output_type": "display_data"
    }
   ],
   "source": [
    "correlation(df_fake_data)"
   ]
  },
  {
   "cell_type": "code",
   "execution_count": null,
   "metadata": {},
   "outputs": [
    {
     "data": {
      "image/png": "[encoded data removed]",
      "text/plain": [
       "<Figure size 640x480 with 2 Axes>"
      ]
     },
     "metadata": {},
     "output_type": "display_data"
    }
   ],
   "source": [
    "correlation(df_fault.drop(columns=['fault_duration','bin','fault']).sample(frac=0.2))"
   ]
  }
 ],
 "metadata": {
  "kernelspec": {
   "display_name": "fault_pred",
   "language": "python",
   "name": "python3"
  },
  "language_info": {
   "codemirror_mode": {
    "name": "ipython",
    "version": 3
   },
   "file_extension": ".py",
   "mimetype": "text/x-python",
   "name": "python",
   "nbconvert_exporter": "python",
   "pygments_lexer": "ipython3",
   "version": "3.11.8"
  }
 },
 "nbformat": 4,
 "nbformat_minor": 2
}

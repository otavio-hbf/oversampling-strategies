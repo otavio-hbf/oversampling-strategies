{
 "cells": [
  {
   "cell_type": "code",
   "execution_count": 1,
   "metadata": {},
   "outputs": [],
   "source": [
    "import os\n",
    "import PyImbalReg as pir\n",
    "import pandas as pd\n",
    "import numpy as np \n",
    "from sklearn.neighbors import KNeighborsClassifier\n",
    "from imblearn.over_sampling import RandomOverSampler\n",
    "import seaborn as sns\n",
    "import matplotlib.pyplot as plt\n",
    "import resreg"
   ]
  },
  {
   "cell_type": "code",
   "execution_count": 2,
   "metadata": {},
   "outputs": [],
   "source": [
    "df = pd.read_csv(\"/home/usr/Documents/reg-class-fault-detection/dataset/kpi_fuller_df.csv\")"
   ]
  },
  {
   "cell_type": "code",
   "execution_count": 3,
   "metadata": {},
   "outputs": [],
   "source": [
    "def label_func(faultD):\n",
    "  if(faultD == 0): return 0\n",
    "  elif(faultD < 500): return 1\n",
    "  else: return 2"
   ]
  },
  {
   "cell_type": "code",
   "execution_count": 4,
   "metadata": {},
   "outputs": [],
   "source": [
    "from sklearn.metrics import r2_score, mean_squared_error, mean_absolute_error\n",
    "\n",
    "def reg_acc(md, data, test_labels):\n",
    "  test_predictions = md.predict(data).flatten()\n",
    "  r2 = r2_score(test_labels, test_predictions)\n",
    "  rmse = np.sqrt(mean_squared_error(test_labels, test_predictions))\n",
    "  mae = mean_absolute_error(test_labels, test_predictions)\n",
    "\n",
    "  print(f'r2 score: {r2}')\n",
    "  print(f'rmse score: {rmse}')\n",
    "  print(f'mae score: {mae}')\n",
    "  # print(f'erro medio de: {rmse} segundos')\n",
    "\n",
    "  plt.scatter(test_labels, test_predictions)\n",
    "  plt.xlabel('True Values')\n",
    "  plt.ylabel('Predictions')\n",
    "  plt.axis('equal')\n",
    "  plt.axis('square')\n",
    "  plt.xlim([0,plt.xlim()[1]])\n",
    "  plt.ylim([0,plt.ylim()[1]])\n",
    "  _ = plt.plot([-100, 100], [-100, 100])"
   ]
  },
  {
   "cell_type": "code",
   "execution_count": 5,
   "metadata": {},
   "outputs": [
    {
     "name": "stderr",
     "output_type": "stream",
     "text": [
      "/tmp/ipykernel_3884/1550130980.py:9: SettingWithCopyWarning: \n",
      "A value is trying to be set on a copy of a slice from a DataFrame.\n",
      "Try using .loc[row_indexer,col_indexer] = value instead\n",
      "\n",
      "See the caveats in the documentation: https://pandas.pydata.org/pandas-docs/stable/user_guide/indexing.html#returning-a-view-versus-a-copy\n",
      "  train_data['fault'] = train_data['fault_duration'].apply(label_func)\n"
     ]
    }
   ],
   "source": [
    "df = df.sample(frac=1)\n",
    "test_data = df[:(len(df)//5)]\n",
    "train_data = df[(len(df)//5):]\n",
    "\n",
    "X_test = test_data.drop(columns=['Unnamed: 0','NE ID','endTime', 'relation','fault_duration']).values\n",
    "y_test_fd = test_data.fault_duration.values\n",
    "y_test = test_data.fault_duration.apply(label_func).values\n",
    "\n",
    "train_data['fault'] = train_data['fault_duration'].apply(label_func)\n",
    "\n",
    "train_data = train_data.dropna()\n",
    "train_data = train_data.drop(columns=['Unnamed: 0','NE ID','endTime','relation'])"
   ]
  },
  {
   "cell_type": "code",
   "execution_count": 6,
   "metadata": {},
   "outputs": [],
   "source": [
    "def bin_func(faultD):\n",
    "  if(faultD == 0): return 0\n",
    "  else: return (faultD//500 + 1)"
   ]
  },
  {
   "cell_type": "code",
   "execution_count": 7,
   "metadata": {},
   "outputs": [],
   "source": [
    "train_data['bin'] = train_data.fault_duration.apply(bin_func)"
   ]
  },
  {
   "cell_type": "code",
   "execution_count": 8,
   "metadata": {},
   "outputs": [],
   "source": [
    "bin_freq = train_data.bin.value_counts().values\n",
    "bin_keys = train_data.bin.value_counts().keys()\n",
    "sum = np.sum(bin_freq)\n",
    "\n",
    "relevance_values = [ (sum - b)/sum for b in bin_freq]\n",
    "\n",
    "relevance_dict = list(zip(bin_keys, relevance_values))"
   ]
  },
  {
   "cell_type": "code",
   "execution_count": 9,
   "metadata": {},
   "outputs": [],
   "source": [
    "relevance_dict.sort()"
   ]
  },
  {
   "cell_type": "code",
   "execution_count": 10,
   "metadata": {},
   "outputs": [],
   "source": [
    "def relevance_function(sample):\n",
    "    return relevance_dict[int(sample)][1]\n",
    "\n"
   ]
  },
  {
   "cell_type": "code",
   "execution_count": 11,
   "metadata": {},
   "outputs": [],
   "source": [
    "y = train_data.fault_duration.values\n",
    "X = train_data.drop(columns=['fault','fault_duration']).values\n",
    "\n",
    "faults = train_data[train_data['fault_duration'] > 0]\n",
    "X_fault = faults.drop(columns=['fault','fault_duration']).values\n",
    "y_fault = faults.fault_duration.values\n",
    "\n",
    "X_test = test_data.drop(columns=['Unnamed: 0','NE ID','endTime', 'relation','fault_duration']).values\n",
    "y_test_fd = test_data.fault_duration.values\n",
    "y_test = test_data.fault_duration.apply(label_func).values\n"
   ]
  },
  {
   "cell_type": "code",
   "execution_count": 12,
   "metadata": {},
   "outputs": [],
   "source": [
    "relevance = train_data.bin.apply(relevance_function)"
   ]
  },
  {
   "cell_type": "code",
   "execution_count": null,
   "metadata": {},
   "outputs": [],
   "source": [
    "\n",
    "X_train, y_train = resreg.smoter(X, y, relevance, relevance_threshold=0.5, k=5, over='balance', random_state=0)"
   ]
  }
 ],
 "metadata": {
  "kernelspec": {
   "display_name": "cnn-env",
   "language": "python",
   "name": "python3"
  },
  "language_info": {
   "codemirror_mode": {
    "name": "ipython",
    "version": 3
   },
   "file_extension": ".py",
   "mimetype": "text/x-python",
   "name": "python",
   "nbconvert_exporter": "python",
   "pygments_lexer": "ipython3",
   "version": "3.11.8"
  }
 },
 "nbformat": 4,
 "nbformat_minor": 2
}

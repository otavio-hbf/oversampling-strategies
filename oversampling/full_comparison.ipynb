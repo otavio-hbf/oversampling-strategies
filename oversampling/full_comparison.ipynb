{
 "cells": [
  {
   "cell_type": "code",
   "execution_count": 1,
   "metadata": {},
   "outputs": [],
   "source": [
    "from sklearn.feature_selection import SequentialFeatureSelector\n",
    "from sklearn.neighbors import KNeighborsClassifier\n",
    "from sklearn.datasets import load_iris\n",
    "from sklearn.metrics import r2_score, mean_squared_error, mean_absolute_error\n",
    "import os\n",
    "import PyImbalReg as pir\n",
    "import pandas as pd\n",
    "import numpy as np \n",
    "from sklearn.neighbors import KNeighborsClassifier\n",
    "from imblearn.over_sampling import RandomOverSampler\n",
    "import seaborn as sns\n",
    "import matplotlib.pyplot as plt\n",
    "import resreg\n",
    "from sklearn.metrics import ConfusionMatrixDisplay, accuracy_score, confusion_matrix, f1_score, recall_score, roc_auc_score"
   ]
  },
  {
   "cell_type": "code",
   "execution_count": 2,
   "metadata": {},
   "outputs": [],
   "source": [
    "df = pd.read_csv(\"/home/usr/Documents/reg-class-fault-detection/dataset/kpi_fuller_df.csv\")"
   ]
  },
  {
   "cell_type": "code",
   "execution_count": 3,
   "metadata": {},
   "outputs": [],
   "source": [
    "def label_func(faultD):\n",
    "  if(faultD == 0): return 0\n",
    "  elif(faultD < 500): return 1\n",
    "  else: return 2\n",
    "\n",
    "\n",
    "\n",
    "def reg_acc(md, data, test_labels):\n",
    "  test_predictions = md.predict(data).flatten()\n",
    "  r2 = r2_score(test_labels, test_predictions)\n",
    "  rmse = np.sqrt(mean_squared_error(test_labels, test_predictions))\n",
    "  mae = mean_absolute_error(test_labels, test_predictions)\n",
    "\n",
    "  print(f'r2 score: {r2}')\n",
    "  print(f'rmse score: {rmse}')\n",
    "  print(f'mae score: {mae}')\n",
    "  # print(f'erro medio de: {rmse} segundos')\n",
    "\n",
    "  plt.scatter(test_labels, test_predictions)\n",
    "  plt.xlabel('True Values')\n",
    "  plt.ylabel('Predictions')\n",
    "  plt.axis('equal')\n",
    "  plt.axis('square')\n",
    "  plt.xlim([0,plt.xlim()[1]])\n",
    "  plt.ylim([0,plt.ylim()[1]])\n",
    "  _ = plt.plot([-100, 100], [-100, 100])\n",
    "\n",
    "def bin_func(faultD):\n",
    "  if(faultD == 0): return 0\n",
    "  else: return (faultD//500 + 1)\n",
    "\n",
    "\n",
    "def show_results(y_test, predictions):\n",
    "  print('Accuracy score:', accuracy_score(y_test, predictions))\n",
    "  # print('f1 score:', f1_score(y_test, predictions))\n",
    "  # print('recall score:', recall_score(y_test, predictions))\n",
    "\n",
    "  font = {'family' : 'serif', 'weight' : 'bold', 'size':18}\n",
    "  plt.rc('font', **font)\n",
    "  disp = ConfusionMatrixDisplay(confusion_matrix(y_test, predictions), display_labels=None)\n",
    "  disp.plot()\n",
    "  plt.show()"
   ]
  },
  {
   "cell_type": "code",
   "execution_count": 4,
   "metadata": {},
   "outputs": [
    {
     "name": "stderr",
     "output_type": "stream",
     "text": [
      "/tmp/ipykernel_4828/150606986.py:5: SettingWithCopyWarning: \n",
      "A value is trying to be set on a copy of a slice from a DataFrame.\n",
      "Try using .loc[row_indexer,col_indexer] = value instead\n",
      "\n",
      "See the caveats in the documentation: https://pandas.pydata.org/pandas-docs/stable/user_guide/indexing.html#returning-a-view-versus-a-copy\n",
      "  test_data['bin'] = test_data.fault_duration.apply(bin_func)\n",
      "/tmp/ipykernel_4828/150606986.py:6: SettingWithCopyWarning: \n",
      "A value is trying to be set on a copy of a slice from a DataFrame.\n",
      "Try using .loc[row_indexer,col_indexer] = value instead\n",
      "\n",
      "See the caveats in the documentation: https://pandas.pydata.org/pandas-docs/stable/user_guide/indexing.html#returning-a-view-versus-a-copy\n",
      "  test_data['fault'] = test_data['fault_duration'].apply(label_func)\n",
      "/tmp/ipykernel_4828/150606986.py:7: SettingWithCopyWarning: \n",
      "A value is trying to be set on a copy of a slice from a DataFrame.\n",
      "Try using .loc[row_indexer,col_indexer] = value instead\n",
      "\n",
      "See the caveats in the documentation: https://pandas.pydata.org/pandas-docs/stable/user_guide/indexing.html#returning-a-view-versus-a-copy\n",
      "  test_data['is_fault'] = test_data.fault.apply(lambda x: 0 if x == 0 else 1)\n",
      "/tmp/ipykernel_4828/150606986.py:13: SettingWithCopyWarning: \n",
      "A value is trying to be set on a copy of a slice from a DataFrame.\n",
      "Try using .loc[row_indexer,col_indexer] = value instead\n",
      "\n",
      "See the caveats in the documentation: https://pandas.pydata.org/pandas-docs/stable/user_guide/indexing.html#returning-a-view-versus-a-copy\n",
      "  train_data['fault'] = train_data['fault_duration'].apply(label_func)\n"
     ]
    }
   ],
   "source": [
    "df = df.sample(frac=1)\n",
    "test_data = df[:(len(df)//5)]\n",
    "train_data = df[(len(df)//5):]\n",
    "\n",
    "test_data['bin'] = test_data.fault_duration.apply(bin_func)\n",
    "test_data['fault'] = test_data['fault_duration'].apply(label_func)\n",
    "test_data['is_fault'] = test_data.fault.apply(lambda x: 0 if x == 0 else 1)\n",
    "\n",
    "X_test = test_data.drop(columns=['Unnamed: 0','NE ID','endTime', 'relation','fault_duration','bin','fault','is_fault']).values\n",
    "y_test_fd = test_data.fault_duration.values\n",
    "y_test = test_data.fault_duration.apply(label_func).values\n",
    "\n",
    "train_data['fault'] = train_data['fault_duration'].apply(label_func)\n",
    "train_data = train_data.dropna()\n",
    "train_data = train_data.drop(columns=['Unnamed: 0','NE ID','endTime','relation'])\n",
    "train_data['bin'] = train_data.fault_duration.apply(bin_func)\n",
    "train_data['is_fault'] = train_data.fault.apply(lambda x: 0 if x == 0 else 1)"
   ]
  },
  {
   "cell_type": "code",
   "execution_count": 5,
   "metadata": {},
   "outputs": [],
   "source": [
    "y = train_data.fault.values\n",
    "X = train_data.drop(columns=['fault','fault_duration','is_fault','bin']).values\n",
    "\n",
    "faults = train_data[train_data['fault_duration'] > 0]\n",
    "X_fault = faults.drop(columns=['fault','fault_duration']).values\n",
    "y_fault = faults.is_fault.values\n"
   ]
  },
  {
   "cell_type": "code",
   "execution_count": 6,
   "metadata": {},
   "outputs": [],
   "source": [
    "def score(y_true, y_pred):\n",
    "    rec_arr = recall_score(y_true, y_pred, average=None)\n",
    "    return rec_arr[0]*0.25 + rec_arr[1]*0.25 + rec_arr[2]*0.5"
   ]
  },
  {
   "cell_type": "code",
   "execution_count": 8,
   "metadata": {},
   "outputs": [],
   "source": [
    "from imblearn.over_sampling import SMOTE\n",
    "sm = SMOTE(random_state=42)\n",
    "X_smote, y_smote = sm.fit_resample(X, y)"
   ]
  },
  {
   "cell_type": "code",
   "execution_count": 26,
   "metadata": {},
   "outputs": [
    {
     "data": {
      "text/plain": [
       "['rf-model-customparam.joblib']"
      ]
     },
     "execution_count": 26,
     "metadata": {},
     "output_type": "execute_result"
    }
   ],
   "source": [
    "from sklearn.ensemble import RandomForestClassifier\n",
    "from joblib import dump\n",
    "\n",
    "params = {'n_estimators': 94, 'max_depth': 31, 'min_samples_split': 7, 'min_samples_leaf': 1}\n",
    "rf = RandomForestClassifier(**params)\n",
    "rf.fit(X_smote, y_smote)\n",
    "\n",
    "\n",
    "dump(rf,'rf-model-customparam.joblib')\n"
   ]
  },
  {
   "cell_type": "code",
   "execution_count": 27,
   "metadata": {},
   "outputs": [
    {
     "name": "stdout",
     "output_type": "stream",
     "text": [
      "Accuracy score: 0.9461493990567473\n"
     ]
    },
    {
     "data": {
      "image/png": "[encoded data removed]",
      "text/plain": [
       "<Figure size 640x480 with 2 Axes>"
      ]
     },
     "metadata": {},
     "output_type": "display_data"
    }
   ],
   "source": [
    "rf_pred = rf.predict(X_test)\n",
    "show_results(y_test, rf_pred)"
   ]
  },
  {
   "cell_type": "code",
   "execution_count": 29,
   "metadata": {},
   "outputs": [
    {
     "data": {
      "application/vnd.plotly.v1+json": {
       "config": {
        "plotlyServerURL": "https://plot.ly"
       },
       "data": [
        {
         "alignmentgroup": "True",
         "hovertemplate": "x=%{x}<br>y=%{y}<extra></extra>",
         "legendgroup": "",
         "marker": {
          "color": "#636efa",
          "pattern": {
           "shape": ""
          }
         },
         "name": "",
         "offsetgroup": "",
         "orientation": "v",
         "showlegend": false,
         "textposition": "auto",
         "type": "bar",
         "x": [
          "access_success_rate",
          "resource_utilition_rate",
          "TA",
          "bler",
          "cqi",
          "mcs",
          "data_rate",
          "access_success_rate_rol_mean",
          "access_success_rate_rol_std",
          "access_success_rate_rol_diff",
          "access_success_rate_rol_kurt",
          "access_success_rate_rol_skew",
          "resource_utilition_rate_rol_mean",
          "resource_utilition_rate_rol_std",
          "resource_utilition_rate_rol_diff",
          "resource_utilition_rate_rol_kurt",
          "resource_utilition_rate_rol_skew",
          "TA_rol_mean",
          "TA_rol_std",
          "TA_rol_diff",
          "TA_rol_kurt",
          "TA_rol_skew",
          "bler_rol_mean",
          "bler_rol_std",
          "bler_rol_diff",
          "bler_rol_kurt",
          "bler_rol_skew",
          "cqi_rol_mean",
          "cqi_rol_std",
          "cqi_rol_diff",
          "cqi_rol_kurt",
          "cqi_rol_skew",
          "mcs_rol_mean",
          "mcs_rol_std",
          "mcs_rol_diff",
          "mcs_rol_kurt",
          "mcs_rol_skew",
          "data_rate_rol_mean",
          "data_rate_rol_std",
          "data_rate_rol_diff",
          "data_rate_rol_kurt",
          "data_rate_rol_skew"
         ],
         "xaxis": "x",
         "y": [
          0.022988593114751786,
          0.036465893732367555,
          0.033864134342881484,
          0.024678380445986896,
          0.029677377566444955,
          0.02311765484970028,
          0.019380166644465156,
          0.022609048691010707,
          0.0227247004545193,
          0.01562268731239276,
          0.02544412003015407,
          0.024048011071493115,
          0.03720715207903364,
          0.02519619668393257,
          0.018483795566860983,
          0.02125275354744433,
          0.022181133068704763,
          0.037653719944738116,
          0.03202021243272835,
          0.018520646034262334,
          0.014450191881683944,
          0.0199079126775966,
          0.03238474765282689,
          0.02508872944059667,
          0.015691109994292032,
          0.020993064318611043,
          0.021827931410034185,
          0.03375396437306638,
          0.023907704828463373,
          0.018259569329894105,
          0.022120959588490512,
          0.022639539561464812,
          0.029695985025490042,
          0.023269883433369904,
          0.016649042505234447,
          0.02114442583578566,
          0.02247438086403831,
          0.02578692078270039,
          0.022455712316614456,
          0.0157250874172965,
          0.018981224662592205,
          0.019655534485984234
         ],
         "yaxis": "y"
        }
       ],
       "layout": {
        "barmode": "relative",
        "legend": {
         "tracegroupgap": 0
        },
        "margin": {
         "t": 60
        },
        "template": {
         "data": {
          "bar": [
           {
            "error_x": {
             "color": "#2a3f5f"
            },
            "error_y": {
             "color": "#2a3f5f"
            },
            "marker": {
             "line": {
              "color": "#E5ECF6",
              "width": 0.5
             },
             "pattern": {
              "fillmode": "overlay",
              "size": 10,
              "solidity": 0.2
             }
            },
            "type": "bar"
           }
          ],
          "barpolar": [
           {
            "marker": {
             "line": {
              "color": "#E5ECF6",
              "width": 0.5
             },
             "pattern": {
              "fillmode": "overlay",
              "size": 10,
              "solidity": 0.2
             }
            },
            "type": "barpolar"
           }
          ],
          "carpet": [
           {
            "aaxis": {
             "endlinecolor": "#2a3f5f",
             "gridcolor": "white",
             "linecolor": "white",
             "minorgridcolor": "white",
             "startlinecolor": "#2a3f5f"
            },
            "baxis": {
             "endlinecolor": "#2a3f5f",
             "gridcolor": "white",
             "linecolor": "white",
             "minorgridcolor": "white",
             "startlinecolor": "#2a3f5f"
            },
            "type": "carpet"
           }
          ],
          "choropleth": [
           {
            "colorbar": {
             "outlinewidth": 0,
             "ticks": ""
            },
            "type": "choropleth"
           }
          ],
          "contour": [
           {
            "colorbar": {
             "outlinewidth": 0,
             "ticks": ""
            },
            "colorscale": [
             [
              0,
              "#0d0887"
             ],
             [
              0.1111111111111111,
              "#46039f"
             ],
             [
              0.2222222222222222,
              "#7201a8"
             ],
             [
              0.3333333333333333,
              "#9c179e"
             ],
             [
              0.4444444444444444,
              "#bd3786"
             ],
             [
              0.5555555555555556,
              "#d8576b"
             ],
             [
              0.6666666666666666,
              "#ed7953"
             ],
             [
              0.7777777777777778,
              "#fb9f3a"
             ],
             [
              0.8888888888888888,
              "#fdca26"
             ],
             [
              1,
              "#f0f921"
             ]
            ],
            "type": "contour"
           }
          ],
          "contourcarpet": [
           {
            "colorbar": {
             "outlinewidth": 0,
             "ticks": ""
            },
            "type": "contourcarpet"
           }
          ],
          "heatmap": [
           {
            "colorbar": {
             "outlinewidth": 0,
             "ticks": ""
            },
            "colorscale": [
             [
              0,
              "#0d0887"
             ],
             [
              0.1111111111111111,
              "#46039f"
             ],
             [
              0.2222222222222222,
              "#7201a8"
             ],
             [
              0.3333333333333333,
              "#9c179e"
             ],
             [
              0.4444444444444444,
              "#bd3786"
             ],
             [
              0.5555555555555556,
              "#d8576b"
             ],
             [
              0.6666666666666666,
              "#ed7953"
             ],
             [
              0.7777777777777778,
              "#fb9f3a"
             ],
             [
              0.8888888888888888,
              "#fdca26"
             ],
             [
              1,
              "#f0f921"
             ]
            ],
            "type": "heatmap"
           }
          ],
          "heatmapgl": [
           {
            "colorbar": {
             "outlinewidth": 0,
             "ticks": ""
            },
            "colorscale": [
             [
              0,
              "#0d0887"
             ],
             [
              0.1111111111111111,
              "#46039f"
             ],
             [
              0.2222222222222222,
              "#7201a8"
             ],
             [
              0.3333333333333333,
              "#9c179e"
             ],
             [
              0.4444444444444444,
              "#bd3786"
             ],
             [
              0.5555555555555556,
              "#d8576b"
             ],
             [
              0.6666666666666666,
              "#ed7953"
             ],
             [
              0.7777777777777778,
              "#fb9f3a"
             ],
             [
              0.8888888888888888,
              "#fdca26"
             ],
             [
              1,
              "#f0f921"
             ]
            ],
            "type": "heatmapgl"
           }
          ],
          "histogram": [
           {
            "marker": {
             "pattern": {
              "fillmode": "overlay",
              "size": 10,
              "solidity": 0.2
             }
            },
            "type": "histogram"
           }
          ],
          "histogram2d": [
           {
            "colorbar": {
             "outlinewidth": 0,
             "ticks": ""
            },
            "colorscale": [
             [
              0,
              "#0d0887"
             ],
             [
              0.1111111111111111,
              "#46039f"
             ],
             [
              0.2222222222222222,
              "#7201a8"
             ],
             [
              0.3333333333333333,
              "#9c179e"
             ],
             [
              0.4444444444444444,
              "#bd3786"
             ],
             [
              0.5555555555555556,
              "#d8576b"
             ],
             [
              0.6666666666666666,
              "#ed7953"
             ],
             [
              0.7777777777777778,
              "#fb9f3a"
             ],
             [
              0.8888888888888888,
              "#fdca26"
             ],
             [
              1,
              "#f0f921"
             ]
            ],
            "type": "histogram2d"
           }
          ],
          "histogram2dcontour": [
           {
            "colorbar": {
             "outlinewidth": 0,
             "ticks": ""
            },
            "colorscale": [
             [
              0,
              "#0d0887"
             ],
             [
              0.1111111111111111,
              "#46039f"
             ],
             [
              0.2222222222222222,
              "#7201a8"
             ],
             [
              0.3333333333333333,
              "#9c179e"
             ],
             [
              0.4444444444444444,
              "#bd3786"
             ],
             [
              0.5555555555555556,
              "#d8576b"
             ],
             [
              0.6666666666666666,
              "#ed7953"
             ],
             [
              0.7777777777777778,
              "#fb9f3a"
             ],
             [
              0.8888888888888888,
              "#fdca26"
             ],
             [
              1,
              "#f0f921"
             ]
            ],
            "type": "histogram2dcontour"
           }
          ],
          "mesh3d": [
           {
            "colorbar": {
             "outlinewidth": 0,
             "ticks": ""
            },
            "type": "mesh3d"
           }
          ],
          "parcoords": [
           {
            "line": {
             "colorbar": {
              "outlinewidth": 0,
              "ticks": ""
             }
            },
            "type": "parcoords"
           }
          ],
          "pie": [
           {
            "automargin": true,
            "type": "pie"
           }
          ],
          "scatter": [
           {
            "fillpattern": {
             "fillmode": "overlay",
             "size": 10,
             "solidity": 0.2
            },
            "type": "scatter"
           }
          ],
          "scatter3d": [
           {
            "line": {
             "colorbar": {
              "outlinewidth": 0,
              "ticks": ""
             }
            },
            "marker": {
             "colorbar": {
              "outlinewidth": 0,
              "ticks": ""
             }
            },
            "type": "scatter3d"
           }
          ],
          "scattercarpet": [
           {
            "marker": {
             "colorbar": {
              "outlinewidth": 0,
              "ticks": ""
             }
            },
            "type": "scattercarpet"
           }
          ],
          "scattergeo": [
           {
            "marker": {
             "colorbar": {
              "outlinewidth": 0,
              "ticks": ""
             }
            },
            "type": "scattergeo"
           }
          ],
          "scattergl": [
           {
            "marker": {
             "colorbar": {
              "outlinewidth": 0,
              "ticks": ""
             }
            },
            "type": "scattergl"
           }
          ],
          "scattermapbox": [
           {
            "marker": {
             "colorbar": {
              "outlinewidth": 0,
              "ticks": ""
             }
            },
            "type": "scattermapbox"
           }
          ],
          "scatterpolar": [
           {
            "marker": {
             "colorbar": {
              "outlinewidth": 0,
              "ticks": ""
             }
            },
            "type": "scatterpolar"
           }
          ],
          "scatterpolargl": [
           {
            "marker": {
             "colorbar": {
              "outlinewidth": 0,
              "ticks": ""
             }
            },
            "type": "scatterpolargl"
           }
          ],
          "scatterternary": [
           {
            "marker": {
             "colorbar": {
              "outlinewidth": 0,
              "ticks": ""
             }
            },
            "type": "scatterternary"
           }
          ],
          "surface": [
           {
            "colorbar": {
             "outlinewidth": 0,
             "ticks": ""
            },
            "colorscale": [
             [
              0,
              "#0d0887"
             ],
             [
              0.1111111111111111,
              "#46039f"
             ],
             [
              0.2222222222222222,
              "#7201a8"
             ],
             [
              0.3333333333333333,
              "#9c179e"
             ],
             [
              0.4444444444444444,
              "#bd3786"
             ],
             [
              0.5555555555555556,
              "#d8576b"
             ],
             [
              0.6666666666666666,
              "#ed7953"
             ],
             [
              0.7777777777777778,
              "#fb9f3a"
             ],
             [
              0.8888888888888888,
              "#fdca26"
             ],
             [
              1,
              "#f0f921"
             ]
            ],
            "type": "surface"
           }
          ],
          "table": [
           {
            "cells": {
             "fill": {
              "color": "#EBF0F8"
             },
             "line": {
              "color": "white"
             }
            },
            "header": {
             "fill": {
              "color": "#C8D4E3"
             },
             "line": {
              "color": "white"
             }
            },
            "type": "table"
           }
          ]
         },
         "layout": {
          "annotationdefaults": {
           "arrowcolor": "#2a3f5f",
           "arrowhead": 0,
           "arrowwidth": 1
          },
          "autotypenumbers": "strict",
          "coloraxis": {
           "colorbar": {
            "outlinewidth": 0,
            "ticks": ""
           }
          },
          "colorscale": {
           "diverging": [
            [
             0,
             "#8e0152"
            ],
            [
             0.1,
             "#c51b7d"
            ],
            [
             0.2,
             "#de77ae"
            ],
            [
             0.3,
             "#f1b6da"
            ],
            [
             0.4,
             "#fde0ef"
            ],
            [
             0.5,
             "#f7f7f7"
            ],
            [
             0.6,
             "#e6f5d0"
            ],
            [
             0.7,
             "#b8e186"
            ],
            [
             0.8,
             "#7fbc41"
            ],
            [
             0.9,
             "#4d9221"
            ],
            [
             1,
             "#276419"
            ]
           ],
           "sequential": [
            [
             0,
             "#0d0887"
            ],
            [
             0.1111111111111111,
             "#46039f"
            ],
            [
             0.2222222222222222,
             "#7201a8"
            ],
            [
             0.3333333333333333,
             "#9c179e"
            ],
            [
             0.4444444444444444,
             "#bd3786"
            ],
            [
             0.5555555555555556,
             "#d8576b"
            ],
            [
             0.6666666666666666,
             "#ed7953"
            ],
            [
             0.7777777777777778,
             "#fb9f3a"
            ],
            [
             0.8888888888888888,
             "#fdca26"
            ],
            [
             1,
             "#f0f921"
            ]
           ],
           "sequentialminus": [
            [
             0,
             "#0d0887"
            ],
            [
             0.1111111111111111,
             "#46039f"
            ],
            [
             0.2222222222222222,
             "#7201a8"
            ],
            [
             0.3333333333333333,
             "#9c179e"
            ],
            [
             0.4444444444444444,
             "#bd3786"
            ],
            [
             0.5555555555555556,
             "#d8576b"
            ],
            [
             0.6666666666666666,
             "#ed7953"
            ],
            [
             0.7777777777777778,
             "#fb9f3a"
            ],
            [
             0.8888888888888888,
             "#fdca26"
            ],
            [
             1,
             "#f0f921"
            ]
           ]
          },
          "colorway": [
           "#636efa",
           "#EF553B",
           "#00cc96",
           "#ab63fa",
           "#FFA15A",
           "#19d3f3",
           "#FF6692",
           "#B6E880",
           "#FF97FF",
           "#FECB52"
          ],
          "font": {
           "color": "#2a3f5f"
          },
          "geo": {
           "bgcolor": "white",
           "lakecolor": "white",
           "landcolor": "#E5ECF6",
           "showlakes": true,
           "showland": true,
           "subunitcolor": "white"
          },
          "hoverlabel": {
           "align": "left"
          },
          "hovermode": "closest",
          "mapbox": {
           "style": "light"
          },
          "paper_bgcolor": "white",
          "plot_bgcolor": "#E5ECF6",
          "polar": {
           "angularaxis": {
            "gridcolor": "white",
            "linecolor": "white",
            "ticks": ""
           },
           "bgcolor": "#E5ECF6",
           "radialaxis": {
            "gridcolor": "white",
            "linecolor": "white",
            "ticks": ""
           }
          },
          "scene": {
           "xaxis": {
            "backgroundcolor": "#E5ECF6",
            "gridcolor": "white",
            "gridwidth": 2,
            "linecolor": "white",
            "showbackground": true,
            "ticks": "",
            "zerolinecolor": "white"
           },
           "yaxis": {
            "backgroundcolor": "#E5ECF6",
            "gridcolor": "white",
            "gridwidth": 2,
            "linecolor": "white",
            "showbackground": true,
            "ticks": "",
            "zerolinecolor": "white"
           },
           "zaxis": {
            "backgroundcolor": "#E5ECF6",
            "gridcolor": "white",
            "gridwidth": 2,
            "linecolor": "white",
            "showbackground": true,
            "ticks": "",
            "zerolinecolor": "white"
           }
          },
          "shapedefaults": {
           "line": {
            "color": "#2a3f5f"
           }
          },
          "ternary": {
           "aaxis": {
            "gridcolor": "white",
            "linecolor": "white",
            "ticks": ""
           },
           "baxis": {
            "gridcolor": "white",
            "linecolor": "white",
            "ticks": ""
           },
           "bgcolor": "#E5ECF6",
           "caxis": {
            "gridcolor": "white",
            "linecolor": "white",
            "ticks": ""
           }
          },
          "title": {
           "x": 0.05
          },
          "xaxis": {
           "automargin": true,
           "gridcolor": "white",
           "linecolor": "white",
           "ticks": "",
           "title": {
            "standoff": 15
           },
           "zerolinecolor": "white",
           "zerolinewidth": 2
          },
          "yaxis": {
           "automargin": true,
           "gridcolor": "white",
           "linecolor": "white",
           "ticks": "",
           "title": {
            "standoff": 15
           },
           "zerolinecolor": "white",
           "zerolinewidth": 2
          }
         }
        },
        "xaxis": {
         "anchor": "y",
         "domain": [
          0,
          1
         ],
         "title": {
          "text": "x"
         }
        },
        "yaxis": {
         "anchor": "x",
         "domain": [
          0,
          1
         ],
         "title": {
          "text": "y"
         }
        }
       }
      }
     },
     "metadata": {},
     "output_type": "display_data"
    }
   ],
   "source": [
    "import plotly.express as px\n",
    "\n",
    "fig = px.bar(x=train_data.drop(columns=['fault','fault_duration','is_fault','bin']).columns , y=rf.feature_importances_)\n",
    "fig.show()"
   ]
  },
  {
   "cell_type": "code",
   "execution_count": 31,
   "metadata": {},
   "outputs": [],
   "source": [
    "feat_imps = rf.feature_importances_\n",
    "\n",
    "most_important = train_data.drop(columns=['fault','fault_duration','is_fault','bin']).columns[np.where(feat_imps > np.mean(feat_imps))]"
   ]
  },
  {
   "cell_type": "code",
   "execution_count": 57,
   "metadata": {},
   "outputs": [
    {
     "data": {
      "text/plain": [
       "Index(['resource_utilition_rate', 'TA', 'bler', 'cqi',\n",
       "       'access_success_rate_rol_kurt', 'access_success_rate_rol_skew',\n",
       "       'resource_utilition_rate_rol_mean', 'resource_utilition_rate_rol_std',\n",
       "       'TA_rol_mean', 'TA_rol_std', 'bler_rol_mean', 'bler_rol_std',\n",
       "       'cqi_rol_mean', 'cqi_rol_std', 'mcs_rol_mean', 'data_rate_rol_mean'],\n",
       "      dtype='object')"
      ]
     },
     "execution_count": 57,
     "metadata": {},
     "output_type": "execute_result"
    }
   ],
   "source": [
    "most_important"
   ]
  },
  {
   "cell_type": "code",
   "execution_count": 50,
   "metadata": {},
   "outputs": [],
   "source": [
    "X_most = X_smote[:, np.where(feat_imps > np.mean(feat_imps))]\n",
    "X_most = X_most.reshape((X_most.shape[0], X_most.shape[2]))\n",
    "X_test_most = X_test[:, np.where(feat_imps > np.mean(feat_imps))]\n",
    "X_test_most = X_test_most.reshape((X_test_most.shape[0], X_test_most.shape[2]))"
   ]
  },
  {
   "cell_type": "code",
   "execution_count": null,
   "metadata": {},
   "outputs": [],
   "source": [
    "rf_most = RandomForestClassifier(**params)\n",
    "rf_most.fit(X_most, y_smote)\n"
   ]
  },
  {
   "cell_type": "code",
   "execution_count": 54,
   "metadata": {},
   "outputs": [
    {
     "data": {
      "text/plain": [
       "(1876263, 16)"
      ]
     },
     "execution_count": 54,
     "metadata": {},
     "output_type": "execute_result"
    }
   ],
   "source": [
    "np.shape(X_most)"
   ]
  },
  {
   "cell_type": "code",
   "execution_count": 55,
   "metadata": {},
   "outputs": [
    {
     "name": "stdout",
     "output_type": "stream",
     "text": [
      "Accuracy score: 0.9793823216187434\n"
     ]
    },
    {
     "data": {
      "image/png": "[encoded data removed]",
      "text/plain": [
       "<Figure size 640x480 with 2 Axes>"
      ]
     },
     "metadata": {},
     "output_type": "display_data"
    }
   ],
   "source": [
    "rf_most_pred = rf_most.predict(X_test_most)\n",
    "show_results(y_test, rf_most_pred)"
   ]
  },
  {
   "cell_type": "code",
   "execution_count": 68,
   "metadata": {},
   "outputs": [],
   "source": [
    "rf_most_proba = rf_most.predict_proba(X_test_most)"
   ]
  },
  {
   "cell_type": "code",
   "execution_count": 56,
   "metadata": {},
   "outputs": [
    {
     "data": {
      "text/plain": [
       "['rf-model-16mostimpfeat.joblib']"
      ]
     },
     "execution_count": 56,
     "metadata": {},
     "output_type": "execute_result"
    }
   ],
   "source": [
    "dump(rf_most,'rf-model-16mostimpfeat.joblib')"
   ]
  },
  {
   "cell_type": "markdown",
   "metadata": {},
   "source": [
    "## PIPELINE"
   ]
  },
  {
   "cell_type": "code",
   "execution_count": 9,
   "metadata": {},
   "outputs": [],
   "source": [
    "from imblearn.over_sampling import BorderlineSMOTE,ADASYN, KMeansSMOTE, SMOTE\n",
    "from imblearn.combine import SMOTEENN, SMOTETomek\n",
    "from sklearn.cluster import MiniBatchKMeans\n",
    "from imblearn.under_sampling import ClusterCentroids, CondensedNearestNeighbour, EditedNearestNeighbours, RandomUnderSampler, TomekLinks\n",
    "import itertools\n",
    "from sklearn.pipeline import make_pipeline, Pipeline\n",
    "from sklearn.ensemble import RandomForestClassifier\n",
    "\n",
    "## oversample \n",
    "bds = BorderlineSMOTE()\n",
    "ada = ADASYN()\n",
    "kms = KMeansSMOTE(\n",
    "    kmeans_estimator=MiniBatchKMeans(n_init=1, random_state=0), random_state=42\n",
    ")\n",
    "sm = SMOTE()\n",
    "ros = RandomOverSampler()\n",
    "\n",
    "## undersample\n",
    "\n",
    "cc = ClusterCentroids(\n",
    "    estimator=MiniBatchKMeans(n_init=1, random_state=0), random_state=42\n",
    ")\n",
    "cnn = CondensedNearestNeighbour(random_state=42)  \n",
    "enn = EditedNearestNeighbours()\n",
    "rus = RandomUnderSampler(random_state=42)\n",
    "tl = TomekLinks()\n",
    "\n",
    "\n",
    "#models\n",
    "params = {'n_estimators': 94, 'max_depth': 31, 'min_samples_split': 7, 'min_samples_leaf': 1}\n",
    "rf_pipe = RandomForestClassifier(**params)\n"
   ]
  },
  {
   "cell_type": "code",
   "execution_count": 15,
   "metadata": {},
   "outputs": [],
   "source": [
    "most_important_feats = ['resource_utilition_rate', 'TA', 'bler', 'cqi',\n",
    "       'access_success_rate_rol_kurt', 'access_success_rate_rol_skew',\n",
    "       'resource_utilition_rate_rol_mean', 'resource_utilition_rate_rol_std',\n",
    "       'TA_rol_mean', 'TA_rol_std', 'bler_rol_mean', 'bler_rol_std',\n",
    "       'cqi_rol_mean', 'cqi_rol_std', 'mcs_rol_mean', 'data_rate_rol_mean']\n",
    "\n",
    "feat_imps = []\n",
    "for col in train_data.columns:\n",
    "    if(col in most_important_feats):\n",
    "        feat_imps.append(1)\n",
    "    else:\n",
    "        feat_imps.append(0)"
   ]
  },
  {
   "cell_type": "code",
   "execution_count": 18,
   "metadata": {},
   "outputs": [],
   "source": [
    "X_pipe = X[:, np.where(feat_imps > np.mean(feat_imps))]\n",
    "X_pipe = X_pipe.reshape((X_pipe.shape[0], X_pipe.shape[2]))\n",
    "y_pipe = y\n",
    "\n",
    "X_test_pipe = X_test[:, np.where(feat_imps > np.mean(feat_imps))]\n",
    "X_test_pipe = X_test_pipe.reshape((X_test_pipe.shape[0], X_test_pipe.shape[2]))\n",
    "y_test_pipe = y_test"
   ]
  },
  {
   "cell_type": "code",
   "execution_count": 70,
   "metadata": {},
   "outputs": [],
   "source": [
    "def results(pipe, test, predictions):\n",
    "    pipe_name = str(pipe) + \"\\n\"\n",
    "    acc = f\"Accuracy: {accuracy_score(test, predictions)}\\n\"\n",
    "    rec_arr = f\"recall_scores : {recall_score(y_test, rf_most_pred, average=None)}\\n\"\n",
    "    roc_arr = f\"roc_auc_scores : {roc_auc_score(y_test, rf_most_proba, average=None, multi_class='ovr')}\"\n",
    "    f1_arr = f\"f1_scores : {f1_score(y_test, rf_most_pred, average=None)}\"\n",
    "\n",
    "    text = pipe_name + acc + rec_arr + roc_arr + f1_arr\n",
    "\n",
    "    return text"
   ]
  },
  {
   "cell_type": "code",
   "execution_count": 147,
   "metadata": {},
   "outputs": [],
   "source": [
    "def run_pipeline_model(pipe, X_tr, y_tr, X_ts, y_ts, filename):\n",
    "\n",
    "    print(type(X_tr))\n",
    "    pipe = pipe.fit(X_tr, y_tr)\n",
    "    y_pred = pipe.predict(X_ts)\n",
    "    res = results(pipe, y_ts, y_pred)\n",
    "    print(res)\n",
    "\n",
    "\n",
    "    f = open(filename, \"a\")\n",
    "    f.write(res)\n",
    "    f.close()"
   ]
  },
  {
   "cell_type": "code",
   "execution_count": 148,
   "metadata": {},
   "outputs": [],
   "source": [
    "from sklearn.base import BaseEstimator, TransformerMixin\n",
    "\n",
    "class Resampler(BaseEstimator, TransformerMixin):\n",
    "    def __init__(self, resampler):\n",
    "        self.resampler = resampler\n",
    "\n",
    "    def fit(self, X, y):\n",
    "        return self  # Fit is just a placeholder\n",
    "\n",
    "    def transform(self, X, y=None):\n",
    "        print(f\"{self.resampler} deu inicio ao resample \")\n",
    "        if y is None:\n",
    "            y = y_pipe # gambiarra louca \n",
    "\n",
    "        try:\n",
    "            print(np.shape(X))\n",
    "        except:\n",
    "            X, y = X[0], X[1]\n",
    "            print(X)\n",
    "\n",
    "            \n",
    "        try:\n",
    "            # Verifica se o método fit_resample está disponível, senão usa fit_transform\n",
    "            if hasattr(self.resampler, 'fit_resample'):\n",
    "                X_resampled, y_resampled = self.resampler.fit_resample(X, y)\n",
    "            else:\n",
    "                X_resampled, y_resampled = self.resampler.fit_transform(X, y)\n",
    "        \n",
    "        except Exception as e:\n",
    "            print(f\"Erro no resample: {e}\")\n",
    "            raise e  # Relevante para debugging\n",
    "            \n",
    "        print(type(y_resampled))\n",
    "        print(np.shape(y_resampled))\n",
    "        return X_resampled, y_resampled"
   ]
  },
  {
   "cell_type": "code",
   "execution_count": 149,
   "metadata": {},
   "outputs": [],
   "source": [
    "overs = [bds, ada, kms, sm, ros]\n",
    "overs = [Resampler(o) for o in overs]\n",
    "unders = [cc, cnn, enn, rus, tl]\n",
    "unders = [Resampler(u) for u in unders]\n",
    "\n",
    "models = [rf_pipe]\n",
    "pipeline_comb = list(itertools.product(overs, unders, models))"
   ]
  },
  {
   "cell_type": "code",
   "execution_count": 23,
   "metadata": {},
   "outputs": [
    {
     "data": {
      "text/plain": [
       "(164325, 16)"
      ]
     },
     "execution_count": 23,
     "metadata": {},
     "output_type": "execute_result"
    }
   ],
   "source": [
    "np.shape(X_test_pipe)"
   ]
  },
  {
   "cell_type": "code",
   "execution_count": 150,
   "metadata": {},
   "outputs": [
    {
     "name": "stdout",
     "output_type": "stream",
     "text": [
      "<class 'numpy.ndarray'>\n",
      "BorderlineSMOTE() deu inicio ao resample \n",
      "(657303, 16)\n",
      "<class 'numpy.ndarray'>\n",
      "(1876221,)\n",
      "ClusterCentroids(estimator=MiniBatchKMeans(n_init=1, random_state=0),\n",
      "                 random_state=42) deu inicio ao resample \n"
     ]
    }
   ],
   "source": [
    "for oversampler, undersampler, model in pipeline_comb:\n",
    "    pipeline = Pipeline([\n",
    "        ('oversampler', oversampler),\n",
    "        ('undersampler', undersampler),\n",
    "        ('classifier', model)\n",
    "    ])\n",
    "\n",
    "    run_pipeline_model(pipeline, X_pipe, y_pipe, X_test_pipe, y_test_pipe, \"summary.txt\")"
   ]
  }
 ],
 "metadata": {
  "kernelspec": {
   "display_name": "cnn-env",
   "language": "python",
   "name": "python3"
  },
  "language_info": {
   "codemirror_mode": {
    "name": "ipython",
    "version": 3
   },
   "file_extension": ".py",
   "mimetype": "text/x-python",
   "name": "python",
   "nbconvert_exporter": "python",
   "pygments_lexer": "ipython3",
   "version": "3.11.8"
  }
 },
 "nbformat": 4,
 "nbformat_minor": 2
}

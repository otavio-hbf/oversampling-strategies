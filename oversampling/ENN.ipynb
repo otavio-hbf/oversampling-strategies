{
 "cells": [
  {
   "cell_type": "code",
   "execution_count": 1,
   "metadata": {},
   "outputs": [],
   "source": [
    "import os\n",
    "import PyImbalReg as pir\n",
    "import pandas as pd\n",
    "import numpy as np \n",
    "from sklearn.neighbors import KNeighborsClassifier\n",
    "from imblearn.over_sampling import RandomOverSampler\n",
    "import seaborn as sns\n",
    "import matplotlib.pyplot as plt\n",
    "import resreg"
   ]
  },
  {
   "cell_type": "code",
   "execution_count": 2,
   "metadata": {},
   "outputs": [],
   "source": [
    "df = pd.read_csv(\"/home/usr/Documents/reg-class-fault-detection/dataset/kpi_fuller_df.csv\")"
   ]
  },
  {
   "cell_type": "code",
   "execution_count": 3,
   "metadata": {},
   "outputs": [],
   "source": [
    "def label_func(faultD):\n",
    "  if(faultD == 0): return 0\n",
    "  elif(faultD < 500): return 1\n",
    "  else: return 2"
   ]
  },
  {
   "cell_type": "code",
   "execution_count": 4,
   "metadata": {},
   "outputs": [],
   "source": [
    "from sklearn.metrics import r2_score, mean_squared_error, mean_absolute_error\n",
    "\n",
    "def reg_acc(md, data, test_labels):\n",
    "  test_predictions = md.predict(data).flatten()\n",
    "  r2 = r2_score(test_labels, test_predictions)\n",
    "  rmse = np.sqrt(mean_squared_error(test_labels, test_predictions))\n",
    "  mae = mean_absolute_error(test_labels, test_predictions)\n",
    "\n",
    "  print(f'r2 score: {r2}')\n",
    "  print(f'rmse score: {rmse}')\n",
    "  print(f'mae score: {mae}')\n",
    "  # print(f'erro medio de: {rmse} segundos')\n",
    "\n",
    "  plt.scatter(test_labels, test_predictions)\n",
    "  plt.xlabel('True Values')\n",
    "  plt.ylabel('Predictions')\n",
    "  plt.axis('equal')\n",
    "  plt.axis('square')\n",
    "  plt.xlim([0,plt.xlim()[1]])\n",
    "  plt.ylim([0,plt.ylim()[1]])\n",
    "  _ = plt.plot([-100, 100], [-100, 100])"
   ]
  },
  {
   "cell_type": "code",
   "execution_count": 6,
   "metadata": {},
   "outputs": [],
   "source": [
    "def bin_func(faultD):\n",
    "  if(faultD == 0): return 0\n",
    "  else: return (faultD//500 + 1)"
   ]
  },
  {
   "cell_type": "code",
   "execution_count": 14,
   "metadata": {},
   "outputs": [
    {
     "name": "stderr",
     "output_type": "stream",
     "text": [
      "/tmp/ipykernel_9323/150606986.py:5: SettingWithCopyWarning: \n",
      "A value is trying to be set on a copy of a slice from a DataFrame.\n",
      "Try using .loc[row_indexer,col_indexer] = value instead\n",
      "\n",
      "See the caveats in the documentation: https://pandas.pydata.org/pandas-docs/stable/user_guide/indexing.html#returning-a-view-versus-a-copy\n",
      "  test_data['bin'] = test_data.fault_duration.apply(bin_func)\n",
      "/tmp/ipykernel_9323/150606986.py:6: SettingWithCopyWarning: \n",
      "A value is trying to be set on a copy of a slice from a DataFrame.\n",
      "Try using .loc[row_indexer,col_indexer] = value instead\n",
      "\n",
      "See the caveats in the documentation: https://pandas.pydata.org/pandas-docs/stable/user_guide/indexing.html#returning-a-view-versus-a-copy\n",
      "  test_data['fault'] = test_data['fault_duration'].apply(label_func)\n",
      "/tmp/ipykernel_9323/150606986.py:7: SettingWithCopyWarning: \n",
      "A value is trying to be set on a copy of a slice from a DataFrame.\n",
      "Try using .loc[row_indexer,col_indexer] = value instead\n",
      "\n",
      "See the caveats in the documentation: https://pandas.pydata.org/pandas-docs/stable/user_guide/indexing.html#returning-a-view-versus-a-copy\n",
      "  test_data['is_fault'] = test_data.fault.apply(lambda x: 0 if x == 0 else 1)\n",
      "/tmp/ipykernel_9323/150606986.py:13: SettingWithCopyWarning: \n",
      "A value is trying to be set on a copy of a slice from a DataFrame.\n",
      "Try using .loc[row_indexer,col_indexer] = value instead\n",
      "\n",
      "See the caveats in the documentation: https://pandas.pydata.org/pandas-docs/stable/user_guide/indexing.html#returning-a-view-versus-a-copy\n",
      "  train_data['fault'] = train_data['fault_duration'].apply(label_func)\n"
     ]
    }
   ],
   "source": [
    "df = df.sample(frac=1)\n",
    "test_data = df[:(len(df)//5)]\n",
    "train_data = df[(len(df)//5):]\n",
    "\n",
    "test_data['bin'] = test_data.fault_duration.apply(bin_func)\n",
    "test_data['fault'] = test_data['fault_duration'].apply(label_func)\n",
    "test_data['is_fault'] = test_data.fault.apply(lambda x: 0 if x == 0 else 1)\n",
    "\n",
    "X_test = test_data.drop(columns=['Unnamed: 0','NE ID','endTime', 'relation','fault_duration','bin','fault','is_fault']).values\n",
    "y_test_fd = test_data.fault_duration.values\n",
    "y_test = test_data.fault_duration.apply(label_func).values\n",
    "\n",
    "train_data['fault'] = train_data['fault_duration'].apply(label_func)\n",
    "train_data = train_data.dropna()\n",
    "train_data = train_data.drop(columns=['Unnamed: 0','NE ID','endTime','relation'])\n",
    "train_data['bin'] = train_data.fault_duration.apply(bin_func)\n",
    "train_data['is_fault'] = train_data.fault.apply(lambda x: 0 if x == 0 else 1)"
   ]
  },
  {
   "cell_type": "code",
   "execution_count": 20,
   "metadata": {},
   "outputs": [],
   "source": [
    "y = train_data.is_fault.values\n",
    "X = train_data.drop(columns=['fault','fault_duration','is_fault','bin']).values\n",
    "\n",
    "faults = train_data[train_data['fault_duration'] > 0]\n",
    "X_fault = faults.drop(columns=['fault','fault_duration']).values\n",
    "y_fault = faults.is_fault.values\n"
   ]
  },
  {
   "cell_type": "code",
   "execution_count": null,
   "metadata": {},
   "outputs": [],
   "source": [
    "from collections import Counter\n",
    "from imblearn.under_sampling import EditedNearestNeighbours\n",
    "\n",
    "\n",
    "enn = EditedNearestNeighbours()\n",
    "X_res, y_res = enn.fit_resample(X, y)\n",
    "print('Resampled dataset shape %s' % Counter(y_res))"
   ]
  }
 ],
 "metadata": {
  "kernelspec": {
   "display_name": "cnn-env",
   "language": "python",
   "name": "python3"
  },
  "language_info": {
   "codemirror_mode": {
    "name": "ipython",
    "version": 3
   },
   "file_extension": ".py",
   "mimetype": "text/x-python",
   "name": "python",
   "nbconvert_exporter": "python",
   "pygments_lexer": "ipython3",
   "version": "3.11.8"
  }
 },
 "nbformat": 4,
 "nbformat_minor": 2
}

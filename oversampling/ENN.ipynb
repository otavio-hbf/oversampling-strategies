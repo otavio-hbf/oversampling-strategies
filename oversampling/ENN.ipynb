{
 "cells": [
  {
   "cell_type": "code",
   "execution_count": 1,
   "metadata": {},
   "outputs": [],
   "source": [
    "import os\n",
    "import PyImbalReg as pir\n",
    "import pandas as pd\n",
    "import numpy as np \n",
    "from sklearn.neighbors import KNeighborsClassifier\n",
    "from imblearn.over_sampling import RandomOverSampler\n",
    "import seaborn as sns\n",
    "import matplotlib.pyplot as plt\n",
    "import resreg"
   ]
  },
  {
   "cell_type": "code",
   "execution_count": 2,
   "metadata": {},
   "outputs": [],
   "source": [
    "df = pd.read_csv(\"/home/usr/Documents/reg-class-fault-detection/dataset/kpi_fuller_df.csv\")"
   ]
  },
  {
   "cell_type": "code",
   "execution_count": 3,
   "metadata": {},
   "outputs": [],
   "source": [
    "def label_func(faultD):\n",
    "  if(faultD == 0): return 0\n",
    "  elif(faultD < 500): return 1\n",
    "  else: return 2"
   ]
  },
  {
   "cell_type": "code",
   "execution_count": 4,
   "metadata": {},
   "outputs": [],
   "source": [
    "from sklearn.metrics import r2_score, mean_squared_error, mean_absolute_error\n",
    "\n",
    "def reg_acc(md, data, test_labels):\n",
    "  test_predictions = md.predict(data).flatten()\n",
    "  r2 = r2_score(test_labels, test_predictions)\n",
    "  rmse = np.sqrt(mean_squared_error(test_labels, test_predictions))\n",
    "  mae = mean_absolute_error(test_labels, test_predictions)\n",
    "\n",
    "  print(f'r2 score: {r2}')\n",
    "  print(f'rmse score: {rmse}')\n",
    "  print(f'mae score: {mae}')\n",
    "  # print(f'erro medio de: {rmse} segundos')\n",
    "\n",
    "  plt.scatter(test_labels, test_predictions)\n",
    "  plt.xlabel('True Values')\n",
    "  plt.ylabel('Predictions')\n",
    "  plt.axis('equal')\n",
    "  plt.axis('square')\n",
    "  plt.xlim([0,plt.xlim()[1]])\n",
    "  plt.ylim([0,plt.ylim()[1]])\n",
    "  _ = plt.plot([-100, 100], [-100, 100])"
   ]
  },
  {
   "cell_type": "code",
   "execution_count": 5,
   "metadata": {},
   "outputs": [],
   "source": [
    "def bin_func(faultD):\n",
    "  if(faultD == 0): return 0\n",
    "  else: return (faultD//500 + 1)"
   ]
  },
  {
   "cell_type": "code",
   "execution_count": 6,
   "metadata": {},
   "outputs": [
    {
     "name": "stderr",
     "output_type": "stream",
     "text": [
      "/tmp/ipykernel_7171/150606986.py:5: SettingWithCopyWarning: \n",
      "A value is trying to be set on a copy of a slice from a DataFrame.\n",
      "Try using .loc[row_indexer,col_indexer] = value instead\n",
      "\n",
      "See the caveats in the documentation: https://pandas.pydata.org/pandas-docs/stable/user_guide/indexing.html#returning-a-view-versus-a-copy\n",
      "  test_data['bin'] = test_data.fault_duration.apply(bin_func)\n",
      "/tmp/ipykernel_7171/150606986.py:6: SettingWithCopyWarning: \n",
      "A value is trying to be set on a copy of a slice from a DataFrame.\n",
      "Try using .loc[row_indexer,col_indexer] = value instead\n",
      "\n",
      "See the caveats in the documentation: https://pandas.pydata.org/pandas-docs/stable/user_guide/indexing.html#returning-a-view-versus-a-copy\n",
      "  test_data['fault'] = test_data['fault_duration'].apply(label_func)\n",
      "/tmp/ipykernel_7171/150606986.py:7: SettingWithCopyWarning: \n",
      "A value is trying to be set on a copy of a slice from a DataFrame.\n",
      "Try using .loc[row_indexer,col_indexer] = value instead\n",
      "\n",
      "See the caveats in the documentation: https://pandas.pydata.org/pandas-docs/stable/user_guide/indexing.html#returning-a-view-versus-a-copy\n",
      "  test_data['is_fault'] = test_data.fault.apply(lambda x: 0 if x == 0 else 1)\n",
      "/tmp/ipykernel_7171/150606986.py:13: SettingWithCopyWarning: \n",
      "A value is trying to be set on a copy of a slice from a DataFrame.\n",
      "Try using .loc[row_indexer,col_indexer] = value instead\n",
      "\n",
      "See the caveats in the documentation: https://pandas.pydata.org/pandas-docs/stable/user_guide/indexing.html#returning-a-view-versus-a-copy\n",
      "  train_data['fault'] = train_data['fault_duration'].apply(label_func)\n"
     ]
    }
   ],
   "source": [
    "df = df.sample(frac=1)\n",
    "test_data = df[:(len(df)//5)]\n",
    "train_data = df[(len(df)//5):]\n",
    "\n",
    "test_data['bin'] = test_data.fault_duration.apply(bin_func)\n",
    "test_data['fault'] = test_data['fault_duration'].apply(label_func)\n",
    "test_data['is_fault'] = test_data.fault.apply(lambda x: 0 if x == 0 else 1)\n",
    "\n",
    "X_test = test_data.drop(columns=['Unnamed: 0','NE ID','endTime', 'relation','fault_duration','bin','fault','is_fault']).values\n",
    "y_test_fd = test_data.fault_duration.values\n",
    "y_test = test_data.fault_duration.apply(label_func).values\n",
    "\n",
    "train_data['fault'] = train_data['fault_duration'].apply(label_func)\n",
    "train_data = train_data.dropna()\n",
    "train_data = train_data.drop(columns=['Unnamed: 0','NE ID','endTime','relation'])\n",
    "train_data['bin'] = train_data.fault_duration.apply(bin_func)\n",
    "train_data['is_fault'] = train_data.fault.apply(lambda x: 0 if x == 0 else 1)"
   ]
  },
  {
   "cell_type": "code",
   "execution_count": 7,
   "metadata": {},
   "outputs": [],
   "source": [
    "y = train_data.is_fault.values\n",
    "X = train_data.drop(columns=['fault','fault_duration','is_fault','bin']).values\n",
    "\n",
    "faults = train_data[train_data['fault_duration'] > 0]\n",
    "X_fault = faults.drop(columns=['fault','fault_duration']).values\n",
    "y_fault = faults.is_fault.values\n"
   ]
  },
  {
   "cell_type": "code",
   "execution_count": 8,
   "metadata": {},
   "outputs": [
    {
     "name": "stdout",
     "output_type": "stream",
     "text": [
      "Resampled dataset shape Counter({0: 552271, 1: 31866})\n"
     ]
    }
   ],
   "source": [
    "from collections import Counter\n",
    "from imblearn.under_sampling import EditedNearestNeighbours\n",
    "\n",
    "\n",
    "enn = EditedNearestNeighbours()\n",
    "X_res, y_res = enn.fit_resample(X, y)\n",
    "print('Resampled dataset shape %s' % Counter(y_res))"
   ]
  },
  {
   "cell_type": "code",
   "execution_count": 14,
   "metadata": {},
   "outputs": [],
   "source": [
    "edited_df = pd.DataFrame()\n",
    "edited_df[train_data.drop(columns=['fault','fault_duration','is_fault','bin']).columns] = X_res\n",
    "edited_df['label'] = y_res"
   ]
  },
  {
   "cell_type": "code",
   "execution_count": 12,
   "metadata": {},
   "outputs": [
    {
     "data": {
      "text/plain": [
       "fault\n",
       "0    625437\n",
       "2     30612\n",
       "1      1254\n",
       "Name: count, dtype: int64"
      ]
     },
     "execution_count": 12,
     "metadata": {},
     "output_type": "execute_result"
    }
   ],
   "source": [
    "train_data.fault.value_counts()"
   ]
  },
  {
   "cell_type": "code",
   "execution_count": 15,
   "metadata": {},
   "outputs": [
    {
     "data": {
      "text/plain": [
       "label\n",
       "0    552271\n",
       "1     31866\n",
       "Name: count, dtype: int64"
      ]
     },
     "execution_count": 15,
     "metadata": {},
     "output_type": "execute_result"
    }
   ],
   "source": [
    "edited_df.label.value_counts()"
   ]
  },
  {
   "cell_type": "code",
   "execution_count": 22,
   "metadata": {},
   "outputs": [],
   "source": [
    "train_data = train_data.reset_index()\n",
    "train_data = train_data.drop(columns='index')"
   ]
  },
  {
   "cell_type": "code",
   "execution_count": 35,
   "metadata": {},
   "outputs": [
    {
     "data": {
      "text/html": [
       "<div>\n",
       "<style scoped>\n",
       "    .dataframe tbody tr th:only-of-type {\n",
       "        vertical-align: middle;\n",
       "    }\n",
       "\n",
       "    .dataframe tbody tr th {\n",
       "        vertical-align: top;\n",
       "    }\n",
       "\n",
       "    .dataframe thead th {\n",
       "        text-align: right;\n",
       "    }\n",
       "</style>\n",
       "<table border=\"1\" class=\"dataframe\">\n",
       "  <thead>\n",
       "    <tr style=\"text-align: right;\">\n",
       "      <th></th>\n",
       "      <th>access_success_rate</th>\n",
       "      <th>resource_utilition_rate</th>\n",
       "      <th>TA</th>\n",
       "      <th>bler</th>\n",
       "      <th>cqi</th>\n",
       "      <th>mcs</th>\n",
       "      <th>data_rate</th>\n",
       "      <th>access_success_rate_rol_mean</th>\n",
       "      <th>access_success_rate_rol_std</th>\n",
       "      <th>access_success_rate_rol_diff</th>\n",
       "      <th>...</th>\n",
       "      <th>mcs_rol_skew</th>\n",
       "      <th>data_rate_rol_mean</th>\n",
       "      <th>data_rate_rol_std</th>\n",
       "      <th>data_rate_rol_diff</th>\n",
       "      <th>data_rate_rol_kurt</th>\n",
       "      <th>data_rate_rol_skew</th>\n",
       "      <th>fault_duration</th>\n",
       "      <th>fault</th>\n",
       "      <th>bin</th>\n",
       "      <th>is_fault</th>\n",
       "    </tr>\n",
       "  </thead>\n",
       "  <tbody>\n",
       "    <tr>\n",
       "      <th>0</th>\n",
       "      <td>1.000000</td>\n",
       "      <td>0.040457</td>\n",
       "      <td>0.234593</td>\n",
       "      <td>0.166710</td>\n",
       "      <td>0.352582</td>\n",
       "      <td>0.187989</td>\n",
       "      <td>0.012974</td>\n",
       "      <td>0.999277</td>\n",
       "      <td>0.001968</td>\n",
       "      <td>0.500000</td>\n",
       "      <td>...</td>\n",
       "      <td>0.643877</td>\n",
       "      <td>0.028103</td>\n",
       "      <td>0.005154</td>\n",
       "      <td>0.546616</td>\n",
       "      <td>0.884821</td>\n",
       "      <td>0.572190</td>\n",
       "      <td>0.0</td>\n",
       "      <td>0</td>\n",
       "      <td>0.0</td>\n",
       "      <td>0</td>\n",
       "    </tr>\n",
       "    <tr>\n",
       "      <th>2</th>\n",
       "      <td>0.995556</td>\n",
       "      <td>0.079433</td>\n",
       "      <td>0.360904</td>\n",
       "      <td>0.096838</td>\n",
       "      <td>0.616076</td>\n",
       "      <td>0.339405</td>\n",
       "      <td>0.024617</td>\n",
       "      <td>0.989840</td>\n",
       "      <td>0.037110</td>\n",
       "      <td>0.497778</td>\n",
       "      <td>...</td>\n",
       "      <td>0.487132</td>\n",
       "      <td>0.073476</td>\n",
       "      <td>0.011429</td>\n",
       "      <td>0.545510</td>\n",
       "      <td>0.887870</td>\n",
       "      <td>0.958182</td>\n",
       "      <td>0.0</td>\n",
       "      <td>0</td>\n",
       "      <td>0.0</td>\n",
       "      <td>0</td>\n",
       "    </tr>\n",
       "    <tr>\n",
       "      <th>3</th>\n",
       "      <td>0.000000</td>\n",
       "      <td>0.008698</td>\n",
       "      <td>0.000000</td>\n",
       "      <td>0.000000</td>\n",
       "      <td>0.000000</td>\n",
       "      <td>0.000000</td>\n",
       "      <td>0.000000</td>\n",
       "      <td>0.795299</td>\n",
       "      <td>0.811739</td>\n",
       "      <td>0.000000</td>\n",
       "      <td>...</td>\n",
       "      <td>0.454847</td>\n",
       "      <td>0.124248</td>\n",
       "      <td>0.097423</td>\n",
       "      <td>0.546215</td>\n",
       "      <td>0.884469</td>\n",
       "      <td>0.365384</td>\n",
       "      <td>0.0</td>\n",
       "      <td>0</td>\n",
       "      <td>0.0</td>\n",
       "      <td>0</td>\n",
       "    </tr>\n",
       "    <tr>\n",
       "      <th>4</th>\n",
       "      <td>0.991537</td>\n",
       "      <td>0.031429</td>\n",
       "      <td>0.995532</td>\n",
       "      <td>0.122160</td>\n",
       "      <td>0.622097</td>\n",
       "      <td>0.201636</td>\n",
       "      <td>0.065308</td>\n",
       "      <td>0.592252</td>\n",
       "      <td>0.987121</td>\n",
       "      <td>0.505870</td>\n",
       "      <td>...</td>\n",
       "      <td>0.518789</td>\n",
       "      <td>0.113537</td>\n",
       "      <td>0.096042</td>\n",
       "      <td>0.555155</td>\n",
       "      <td>0.884990</td>\n",
       "      <td>0.505703</td>\n",
       "      <td>0.0</td>\n",
       "      <td>0</td>\n",
       "      <td>0.0</td>\n",
       "      <td>0</td>\n",
       "    </tr>\n",
       "    <tr>\n",
       "      <th>5</th>\n",
       "      <td>0.977778</td>\n",
       "      <td>0.015284</td>\n",
       "      <td>0.098683</td>\n",
       "      <td>0.068679</td>\n",
       "      <td>0.948000</td>\n",
       "      <td>0.259533</td>\n",
       "      <td>0.132977</td>\n",
       "      <td>0.195556</td>\n",
       "      <td>0.798352</td>\n",
       "      <td>0.988889</td>\n",
       "      <td>...</td>\n",
       "      <td>1.000000</td>\n",
       "      <td>0.072464</td>\n",
       "      <td>0.138934</td>\n",
       "      <td>0.622727</td>\n",
       "      <td>0.888111</td>\n",
       "      <td>0.994295</td>\n",
       "      <td>0.0</td>\n",
       "      <td>0</td>\n",
       "      <td>0.0</td>\n",
       "      <td>0</td>\n",
       "    </tr>\n",
       "    <tr>\n",
       "      <th>...</th>\n",
       "      <td>...</td>\n",
       "      <td>...</td>\n",
       "      <td>...</td>\n",
       "      <td>...</td>\n",
       "      <td>...</td>\n",
       "      <td>...</td>\n",
       "      <td>...</td>\n",
       "      <td>...</td>\n",
       "      <td>...</td>\n",
       "      <td>...</td>\n",
       "      <td>...</td>\n",
       "      <td>...</td>\n",
       "      <td>...</td>\n",
       "      <td>...</td>\n",
       "      <td>...</td>\n",
       "      <td>...</td>\n",
       "      <td>...</td>\n",
       "      <td>...</td>\n",
       "      <td>...</td>\n",
       "      <td>...</td>\n",
       "      <td>...</td>\n",
       "    </tr>\n",
       "    <tr>\n",
       "      <th>657163</th>\n",
       "      <td>0.000000</td>\n",
       "      <td>0.007557</td>\n",
       "      <td>0.000000</td>\n",
       "      <td>0.000000</td>\n",
       "      <td>0.000000</td>\n",
       "      <td>0.000000</td>\n",
       "      <td>0.000000</td>\n",
       "      <td>0.200000</td>\n",
       "      <td>0.816497</td>\n",
       "      <td>0.500000</td>\n",
       "      <td>...</td>\n",
       "      <td>0.701391</td>\n",
       "      <td>0.060500</td>\n",
       "      <td>0.115996</td>\n",
       "      <td>0.546215</td>\n",
       "      <td>0.888111</td>\n",
       "      <td>0.994295</td>\n",
       "      <td>3600.0</td>\n",
       "      <td>2</td>\n",
       "      <td>8.0</td>\n",
       "      <td>1</td>\n",
       "    </tr>\n",
       "    <tr>\n",
       "      <th>657184</th>\n",
       "      <td>0.996454</td>\n",
       "      <td>0.030588</td>\n",
       "      <td>0.137040</td>\n",
       "      <td>0.082495</td>\n",
       "      <td>0.530410</td>\n",
       "      <td>0.411281</td>\n",
       "      <td>0.022066</td>\n",
       "      <td>0.970305</td>\n",
       "      <td>0.115048</td>\n",
       "      <td>0.498227</td>\n",
       "      <td>...</td>\n",
       "      <td>0.508233</td>\n",
       "      <td>0.199297</td>\n",
       "      <td>0.084503</td>\n",
       "      <td>0.530977</td>\n",
       "      <td>0.885239</td>\n",
       "      <td>0.317963</td>\n",
       "      <td>3600.0</td>\n",
       "      <td>2</td>\n",
       "      <td>8.0</td>\n",
       "      <td>1</td>\n",
       "    </tr>\n",
       "    <tr>\n",
       "      <th>657202</th>\n",
       "      <td>0.997126</td>\n",
       "      <td>0.116306</td>\n",
       "      <td>0.208378</td>\n",
       "      <td>0.088527</td>\n",
       "      <td>0.528989</td>\n",
       "      <td>0.319779</td>\n",
       "      <td>0.046569</td>\n",
       "      <td>0.994603</td>\n",
       "      <td>0.004551</td>\n",
       "      <td>0.503207</td>\n",
       "      <td>...</td>\n",
       "      <td>0.378248</td>\n",
       "      <td>0.096581</td>\n",
       "      <td>0.025957</td>\n",
       "      <td>0.561981</td>\n",
       "      <td>0.885622</td>\n",
       "      <td>0.307182</td>\n",
       "      <td>3600.0</td>\n",
       "      <td>2</td>\n",
       "      <td>8.0</td>\n",
       "      <td>1</td>\n",
       "    </tr>\n",
       "    <tr>\n",
       "      <th>657204</th>\n",
       "      <td>0.998195</td>\n",
       "      <td>0.161948</td>\n",
       "      <td>0.491995</td>\n",
       "      <td>0.110033</td>\n",
       "      <td>0.356089</td>\n",
       "      <td>0.157550</td>\n",
       "      <td>0.016614</td>\n",
       "      <td>0.995612</td>\n",
       "      <td>0.005925</td>\n",
       "      <td>0.499097</td>\n",
       "      <td>...</td>\n",
       "      <td>0.444529</td>\n",
       "      <td>0.040319</td>\n",
       "      <td>0.010964</td>\n",
       "      <td>0.548486</td>\n",
       "      <td>0.886193</td>\n",
       "      <td>0.713447</td>\n",
       "      <td>3600.0</td>\n",
       "      <td>2</td>\n",
       "      <td>8.0</td>\n",
       "      <td>1</td>\n",
       "    </tr>\n",
       "    <tr>\n",
       "      <th>657260</th>\n",
       "      <td>0.000000</td>\n",
       "      <td>0.000000</td>\n",
       "      <td>0.000000</td>\n",
       "      <td>0.000000</td>\n",
       "      <td>0.000000</td>\n",
       "      <td>0.000000</td>\n",
       "      <td>0.000000</td>\n",
       "      <td>0.000000</td>\n",
       "      <td>0.000000</td>\n",
       "      <td>0.500000</td>\n",
       "      <td>...</td>\n",
       "      <td>0.499987</td>\n",
       "      <td>0.000000</td>\n",
       "      <td>0.000000</td>\n",
       "      <td>0.546215</td>\n",
       "      <td>0.884604</td>\n",
       "      <td>0.497123</td>\n",
       "      <td>3600.0</td>\n",
       "      <td>2</td>\n",
       "      <td>8.0</td>\n",
       "      <td>1</td>\n",
       "    </tr>\n",
       "  </tbody>\n",
       "</table>\n",
       "<p>584137 rows × 46 columns</p>\n",
       "</div>"
      ],
      "text/plain": [
       "        access_success_rate  resource_utilition_rate        TA      bler  \\\n",
       "0                  1.000000                 0.040457  0.234593  0.166710   \n",
       "2                  0.995556                 0.079433  0.360904  0.096838   \n",
       "3                  0.000000                 0.008698  0.000000  0.000000   \n",
       "4                  0.991537                 0.031429  0.995532  0.122160   \n",
       "5                  0.977778                 0.015284  0.098683  0.068679   \n",
       "...                     ...                      ...       ...       ...   \n",
       "657163             0.000000                 0.007557  0.000000  0.000000   \n",
       "657184             0.996454                 0.030588  0.137040  0.082495   \n",
       "657202             0.997126                 0.116306  0.208378  0.088527   \n",
       "657204             0.998195                 0.161948  0.491995  0.110033   \n",
       "657260             0.000000                 0.000000  0.000000  0.000000   \n",
       "\n",
       "             cqi       mcs  data_rate  access_success_rate_rol_mean  \\\n",
       "0       0.352582  0.187989   0.012974                      0.999277   \n",
       "2       0.616076  0.339405   0.024617                      0.989840   \n",
       "3       0.000000  0.000000   0.000000                      0.795299   \n",
       "4       0.622097  0.201636   0.065308                      0.592252   \n",
       "5       0.948000  0.259533   0.132977                      0.195556   \n",
       "...          ...       ...        ...                           ...   \n",
       "657163  0.000000  0.000000   0.000000                      0.200000   \n",
       "657184  0.530410  0.411281   0.022066                      0.970305   \n",
       "657202  0.528989  0.319779   0.046569                      0.994603   \n",
       "657204  0.356089  0.157550   0.016614                      0.995612   \n",
       "657260  0.000000  0.000000   0.000000                      0.000000   \n",
       "\n",
       "        access_success_rate_rol_std  access_success_rate_rol_diff  ...  \\\n",
       "0                          0.001968                      0.500000  ...   \n",
       "2                          0.037110                      0.497778  ...   \n",
       "3                          0.811739                      0.000000  ...   \n",
       "4                          0.987121                      0.505870  ...   \n",
       "5                          0.798352                      0.988889  ...   \n",
       "...                             ...                           ...  ...   \n",
       "657163                     0.816497                      0.500000  ...   \n",
       "657184                     0.115048                      0.498227  ...   \n",
       "657202                     0.004551                      0.503207  ...   \n",
       "657204                     0.005925                      0.499097  ...   \n",
       "657260                     0.000000                      0.500000  ...   \n",
       "\n",
       "        mcs_rol_skew  data_rate_rol_mean  data_rate_rol_std  \\\n",
       "0           0.643877            0.028103           0.005154   \n",
       "2           0.487132            0.073476           0.011429   \n",
       "3           0.454847            0.124248           0.097423   \n",
       "4           0.518789            0.113537           0.096042   \n",
       "5           1.000000            0.072464           0.138934   \n",
       "...              ...                 ...                ...   \n",
       "657163      0.701391            0.060500           0.115996   \n",
       "657184      0.508233            0.199297           0.084503   \n",
       "657202      0.378248            0.096581           0.025957   \n",
       "657204      0.444529            0.040319           0.010964   \n",
       "657260      0.499987            0.000000           0.000000   \n",
       "\n",
       "        data_rate_rol_diff  data_rate_rol_kurt  data_rate_rol_skew  \\\n",
       "0                 0.546616            0.884821            0.572190   \n",
       "2                 0.545510            0.887870            0.958182   \n",
       "3                 0.546215            0.884469            0.365384   \n",
       "4                 0.555155            0.884990            0.505703   \n",
       "5                 0.622727            0.888111            0.994295   \n",
       "...                    ...                 ...                 ...   \n",
       "657163            0.546215            0.888111            0.994295   \n",
       "657184            0.530977            0.885239            0.317963   \n",
       "657202            0.561981            0.885622            0.307182   \n",
       "657204            0.548486            0.886193            0.713447   \n",
       "657260            0.546215            0.884604            0.497123   \n",
       "\n",
       "        fault_duration  fault  bin  is_fault  \n",
       "0                  0.0      0  0.0         0  \n",
       "2                  0.0      0  0.0         0  \n",
       "3                  0.0      0  0.0         0  \n",
       "4                  0.0      0  0.0         0  \n",
       "5                  0.0      0  0.0         0  \n",
       "...                ...    ...  ...       ...  \n",
       "657163          3600.0      2  8.0         1  \n",
       "657184          3600.0      2  8.0         1  \n",
       "657202          3600.0      2  8.0         1  \n",
       "657204          3600.0      2  8.0         1  \n",
       "657260          3600.0      2  8.0         1  \n",
       "\n",
       "[584137 rows x 46 columns]"
      ]
     },
     "execution_count": 35,
     "metadata": {},
     "output_type": "execute_result"
    }
   ],
   "source": [
    "resampled_data"
   ]
  },
  {
   "cell_type": "code",
   "execution_count": 36,
   "metadata": {},
   "outputs": [],
   "source": [
    "resampled_data = train_data.iloc[enn.sample_indices_]\n",
    "X_edited = resampled_data.drop(columns=['fault','fault_duration','is_fault','bin'])\n",
    "y_edited = resampled_data.fault.values"
   ]
  },
  {
   "cell_type": "code",
   "execution_count": 29,
   "metadata": {},
   "outputs": [
    {
     "data": {
      "text/plain": [
       "fault\n",
       "0    625437\n",
       "2     30612\n",
       "1      1254\n",
       "Name: count, dtype: int64"
      ]
     },
     "execution_count": 29,
     "metadata": {},
     "output_type": "execute_result"
    }
   ],
   "source": [
    "train_data.fault.value_counts()"
   ]
  },
  {
   "cell_type": "code",
   "execution_count": 32,
   "metadata": {},
   "outputs": [
    {
     "data": {
      "text/plain": [
       "fault\n",
       "0    552271\n",
       "2     30612\n",
       "1      1254\n",
       "Name: count, dtype: int64"
      ]
     },
     "execution_count": 32,
     "metadata": {},
     "output_type": "execute_result"
    }
   ],
   "source": [
    "train_data.iloc[enn.sample_indices_].fault.value_counts()"
   ]
  },
  {
   "cell_type": "markdown",
   "metadata": {},
   "source": [
    "# OVERSAMPLE + CLASSIFICATION\n"
   ]
  },
  {
   "cell_type": "code",
   "execution_count": 38,
   "metadata": {},
   "outputs": [],
   "source": [
    "from sklearn.metrics import ConfusionMatrixDisplay, accuracy_score, confusion_matrix, f1_score, recall_score\n",
    "\n",
    "def show_results(y_test, predictions):\n",
    "  print('Accuracy score:', accuracy_score(y_test, predictions))\n",
    "  # print('f1 score:', f1_score(y_test, predictions))\n",
    "  # print('recall score:', recall_score(y_test, predictions))\n",
    "\n",
    "  font = {'family' : 'serif', 'weight' : 'bold', 'size':18}\n",
    "  plt.rc('font', **font)\n",
    "  disp = ConfusionMatrixDisplay(confusion_matrix(y_test, predictions), display_labels=None)\n",
    "  disp.plot()\n",
    "  plt.show()"
   ]
  },
  {
   "cell_type": "markdown",
   "metadata": {},
   "source": [
    "## SMOTE"
   ]
  },
  {
   "cell_type": "code",
   "execution_count": 37,
   "metadata": {},
   "outputs": [
    {
     "name": "stdout",
     "output_type": "stream",
     "text": [
      "Resampled dataset shape Counter({0: 552271, 2: 552271, 1: 552271})\n"
     ]
    }
   ],
   "source": [
    "\n",
    "from imblearn.over_sampling import SMOTE\n",
    "sm = SMOTE(random_state=42)\n",
    "X_smote, y_smote = sm.fit_resample(X_edited, y_edited)\n",
    "print('Resampled dataset shape %s' % Counter(y_smote))\n",
    "\n",
    "knearest = KNeighborsClassifier(n_neighbors = 5)\n",
    "knearest = knearest.fit(X_smote, y_smote)\n",
    "knn_pred = knearest.predict(X_test)\n",
    "show_results(y_test, knn_pred)"
   ]
  },
  {
   "cell_type": "code",
   "execution_count": 39,
   "metadata": {},
   "outputs": [
    {
     "name": "stderr",
     "output_type": "stream",
     "text": [
      "/home/usr/anaconda3/envs/cnn-env/lib/python3.11/site-packages/sklearn/base.py:493: UserWarning: X does not have valid feature names, but KNeighborsClassifier was fitted with feature names\n",
      "  warnings.warn(\n"
     ]
    },
    {
     "name": "stdout",
     "output_type": "stream",
     "text": [
      "Accuracy score: 0.6979400578122623\n"
     ]
    },
    {
     "data": {
      "image/png": "[encoded data removed]",
      "text/plain": [
       "<Figure size 640x480 with 2 Axes>"
      ]
     },
     "metadata": {},
     "output_type": "display_data"
    }
   ],
   "source": []
  },
  {
   "cell_type": "markdown",
   "metadata": {},
   "source": [
    "## ADASYN"
   ]
  },
  {
   "cell_type": "code",
   "execution_count": 40,
   "metadata": {},
   "outputs": [
    {
     "name": "stdout",
     "output_type": "stream",
     "text": [
      "Resampled dataset shape Counter({2: 557955, 1: 552602, 0: 552271})\n"
     ]
    },
    {
     "name": "stderr",
     "output_type": "stream",
     "text": [
      "/home/usr/anaconda3/envs/cnn-env/lib/python3.11/site-packages/sklearn/base.py:493: UserWarning: X does not have valid feature names, but KNeighborsClassifier was fitted with feature names\n",
      "  warnings.warn(\n"
     ]
    },
    {
     "name": "stdout",
     "output_type": "stream",
     "text": [
      "Accuracy score: 0.6854343526547999\n"
     ]
    },
    {
     "data": {
      "image/png": "[encoded data removed]",
      "text/plain": [
       "<Figure size 640x480 with 2 Axes>"
      ]
     },
     "metadata": {},
     "output_type": "display_data"
    }
   ],
   "source": [
    "from imblearn.over_sampling import ADASYN\n",
    "\n",
    "\n",
    "ada = ADASYN(random_state=42)\n",
    "X_ada, y_ada = ada.fit_resample(X_edited, y_edited)\n",
    "print('Resampled dataset shape %s' % Counter(y_ada))\n",
    "\n",
    "knearest_ada = KNeighborsClassifier(n_neighbors = 5)\n",
    "knearest_ada = knearest_ada.fit(X_ada, y_ada)\n",
    "knn_pred_ada = knearest_ada.predict(X_test)\n",
    "show_results(y_test, knn_pred_ada)"
   ]
  }
 ],
 "metadata": {
  "kernelspec": {
   "display_name": "cnn-env",
   "language": "python",
   "name": "python3"
  },
  "language_info": {
   "codemirror_mode": {
    "name": "ipython",
    "version": 3
   },
   "file_extension": ".py",
   "mimetype": "text/x-python",
   "name": "python",
   "nbconvert_exporter": "python",
   "pygments_lexer": "ipython3",
   "version": "3.11.8"
  }
 },
 "nbformat": 4,
 "nbformat_minor": 2
}
